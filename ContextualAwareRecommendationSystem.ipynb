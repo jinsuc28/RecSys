{
 "cells": [
  {
   "cell_type": "markdown",
   "metadata": {},
   "source": [
    "# Contextual Aware Recommendation System\n",
    "\n",
    "# 1. 배경 및 정의\n",
    "\n",
    "- 유저와 아이템 interaction 정보 뿐만 아니라 맥락 정보도 더 섬세한 추천이 가능할 것이라고 생각함\n",
    "- 정의: 유저와 아이템 간의 상호 정보 뿐만 아니라, 맥락(Context) 정보도 반영한 추천 시스템\n",
    "- Context란 유저와 아이템의 상호 정보가 아니라 상황을 설명하는 특징적인 정보를 말한다.\n",
    "- Content와 Context는 다르다는 것일 기억하자\n",
    "\n",
    "# 2. 예시\n",
    "\n",
    "### 1.뉴스 추천\n",
    "- 기존: 유저와 아이템(뉴스기사)의 방문 기록을 기반으로 유사도 추천\n",
    "- 맥락기반 추천: 유저가 월요일 아이템(기사)를 읽는 다면, 월요병, 한주의 날씨 등등 월요일에 읽을 만한 기사를 추천합니다.\n",
    "\n",
    "\n",
    "### 2.장소 추천\n",
    "- 기존: 유저가 평점을 높이 매긴 아이템 기반으로 추천한다.\n",
    "- 맥락기반 추천: 시간 데이터를 추가하여서 유저,평점,시간 모두 고려한 추천을 한다.\n",
    "\n",
    "<img width='600' src='img/ContextualAware/Contextual.png'>\n",
    "\n",
    "- 위 식처럼 기존 user와 item간의 상호작용 데이터를 가지고 추천을 진행했다면   \n",
    "context 데이터까지 넣어 더 세심한 추천을 진행하는 것이 contextual aware RecSys입니다."
   ]
  },
  {
   "cell_type": "markdown",
   "metadata": {},
   "source": [
    "# 3. Contextual Data Definition\n",
    "\n",
    "- Contextual Data라는 것은 사실 정의하기 애매한 부분이 있습니다.\n",
    "- implict, explict한 데이터이면서도 contextual하다고 얘기할 수 없는 데이터도 있기 때문입니다.\n",
    "- ex) 영화 추천을 진행할 때 유저와 아이템 정보를 알고 그날 동해바다 온도(explict)가 유저와 아이템의 맥락을 반영한다고 보기 힘듭니다.and\n",
    "- 때문에 아래처럼 6가지 분류로 Contextual data를 정의합니다.\n",
    "\n",
    "<img width='700' src='img/ContextualAware/ContextDataDefinition.png'>"
   ]
  },
  {
   "cell_type": "markdown",
   "metadata": {},
   "source": [
    "# 4.Contextual 적용방법 3가지\n",
    "\n",
    "<img width='700' src='img/ContextualAware/ContextualInformation.png'>\n",
    "\n",
    "- 위 그림처럼 context data를 언제 사용하느냐에 따라 3가지 방법으로 정의될 수 있습니다.\n",
    "\n",
    "### 1.Contextual Pre-filtering\n",
    "\n",
    "<font size='4'> Method</font>\n",
    "- Context data를 통하여 관련있는 (user,item) 데이터만을 추천 알고리즘 적용한다.\n",
    "- Context data는 쿼리 역할만 한다.\n",
    "\n",
    "<font size='4'> 문제점</font>  \n",
    "- Context generalization\n",
    "- (girlfriend, theater, SATURDAY) 이와 같은 데이터는 너무 specific context임\n",
    "- 이처럼 specific 하기 때문에 데이터가 적어 sparsity 문제 발생\n",
    "- user,item을 context로 split핧 때 generalized 필요성이 있음\n",
    "- 적절한 추천을 위해서는 다양한 context를 쿼리로 사용해아되기 때문에 컴퓨팅 자원이 많이 필요할 수도 있다.\n",
    "\n",
    "\n",
    "### 2.Contextual Post-filtering\n",
    "\n",
    "<font size='4'> Method</font>  \n",
    "- user,item 정보를 기존 추천알고리즘으로 모델학습하고 이 추천결과를 context data로 filtering 또는 adjust한다.\n",
    "- 휴리스틱한 접근(Heuristic approach): context로 특정 user가 관심있는 공통 item의 특징 활용\n",
    "- Model based approach: 주어진 context로 user,item가 선호할 확률을 예측\n",
    "- context generalization을 적용가능\n",
    "\n",
    "### 3.Contextual Modeling\n",
    "\n",
    "<font size='4'> Method</font>\n",
    "- user,item,context data를 몽땅 모델에 넣어 학습 추천한다.\n",
    "- context는 여러 차원이여도 가능하다.\n",
    "\n",
    "<font size='4'> 예시</font>\n",
    "\n",
    "- context-aware svm\n",
    "- tensor Factorlizaion, pair-wise interaction tensor factorlization\n",
    "- Factorlization Machine\n",
    "\n",
    "# 5. Apply 예시\n",
    "\n",
    "<img width='700' src='img/ContextualAware/apply.png'>"
   ]
  },
  {
   "cell_type": "code",
   "execution_count": null,
   "metadata": {},
   "outputs": [],
   "source": []
  }
 ],
 "metadata": {
  "kernelspec": {
   "display_name": "Python 3.9.13 64-bit",
   "language": "python",
   "name": "python3"
  },
  "language_info": {
   "name": "python",
   "version": "3.9.13"
  },
  "orig_nbformat": 4,
  "vscode": {
   "interpreter": {
    "hash": "b0fa6594d8f4cbf19f97940f81e996739fb7646882a419484c72d19e05852a7e"
   }
  }
 },
 "nbformat": 4,
 "nbformat_minor": 2
}
