{
 "cells": [
  {
   "cell_type": "markdown",
   "id": "4916ac5b",
   "metadata": {},
   "source": [
    "# 추천시스템 평가지표"
   ]
  },
  {
   "cell_type": "markdown",
   "id": "4b4521ca",
   "metadata": {},
   "source": [
    "<img width=\"956\" alt=\"스크린샷 2022-07-01 오후 10 29 12\" src=\"https://user-images.githubusercontent.com/86936634/176904172-246d68fd-be3f-4c26-bfbe-4b6e058c263c.png\">"
   ]
  },
  {
   "cell_type": "markdown",
   "id": "b33d2b49",
   "metadata": {},
   "source": [
    "- 크게 3가지로 성능 검증을 진행할 수 있다.\n",
    "- 이력데이터 기반, 심사위원 평가, A/B test"
   ]
  },
  {
   "cell_type": "markdown",
   "id": "28fae84c",
   "metadata": {},
   "source": [
    "## 사전 검증"
   ]
  },
  {
   "cell_type": "markdown",
   "id": "2c369aa3",
   "metadata": {},
   "source": [
    "- 학습한 추천시스템 모델을 배포 전 사전에 검증하는 평가를 말한다."
   ]
  },
  {
   "cell_type": "markdown",
   "id": "b1d5d727",
   "metadata": {},
   "source": [
    "### 이력 데이터 기반 성능 평가"
   ]
  },
  {
   "cell_type": "markdown",
   "id": "a48b39ed",
   "metadata": {},
   "source": [
    "- 이력 데이터 기반 Evaluation Metric 평가 방법\n",
    "- 구체적인 평가 지표는 밑에서 알아보자\n",
    "- 한계: 신규 추천 결과에 대한 사용자의 반응을 알 수 없음"
   ]
  },
  {
   "cell_type": "markdown",
   "id": "db3ad698",
   "metadata": {},
   "source": [
    "### 심사위원 평가"
   ]
  },
  {
   "cell_type": "markdown",
   "id": "90a6242b",
   "metadata": {},
   "source": [
    "- 심사위원을 선정하여 추천 평가\n",
    "- ex) 내부인력, 외부인력 등\n",
    "- quality and trust of feedback"
   ]
  },
  {
   "cell_type": "markdown",
   "id": "5859de80",
   "metadata": {},
   "source": [
    "## 사후 검증"
   ]
  },
  {
   "cell_type": "markdown",
   "id": "89bbc628",
   "metadata": {},
   "source": [
    "- 신규 추천 모델과 기존 모델과 A/B 테스트 방법이다.\n",
    "- 일정 비율의 고객에게 기존모델과 신규모델을 제공하여 성능 비교\n",
    "- 서비스의 KPI 지표로 평가 진행\n",
    "- ex) CTR, 매출 등등"
   ]
  },
  {
   "cell_type": "markdown",
   "id": "ddc313b6",
   "metadata": {},
   "source": [
    "# 구체적인 이력 데이터 기반 성능 지표"
   ]
  },
  {
   "cell_type": "markdown",
   "id": "f38581b9",
   "metadata": {},
   "source": [
    "- Prediction 목표가 Rating, Top-k(ranking) 따라 다른 지표를 이용한다."
   ]
  },
  {
   "cell_type": "markdown",
   "id": "d7d535b7",
   "metadata": {},
   "source": [
    "# Rating 기반 성능 지표"
   ]
  },
  {
   "cell_type": "markdown",
   "id": "2752fb2e",
   "metadata": {},
   "source": [
    "- 모델이 예측한 Rating과 실제 Rating 차를 계산\n",
    "- MAE, RMSE 등 선형회귀에서 사용하는 지표들을 사용할 수 있다."
   ]
  },
  {
   "cell_type": "markdown",
   "id": "fe6cbaa3",
   "metadata": {},
   "source": [
    "### Mean Absolute Error"
   ]
  },
  {
   "cell_type": "markdown",
   "id": "06c74be1",
   "metadata": {},
   "source": [
    "<img width=\"308\" alt=\"스크린샷 2022-07-01 오후 10 47 05\" src=\"https://user-images.githubusercontent.com/86936634/176907155-29d7bd48-5d67-4ca1-a055-198b94e45320.png\">\n",
    "- 큰 오차에 큰 패널티, 작은 오차에 작은 패널티를 주는 지표"
   ]
  },
  {
   "cell_type": "markdown",
   "id": "019db23c",
   "metadata": {},
   "source": [
    "### Root Mean Squre Error"
   ]
  },
  {
   "cell_type": "markdown",
   "id": "de288f1b",
   "metadata": {},
   "source": [
    "<img width=\"308\" alt=\"스크린샷 2022-07-01 오후 10 46 22\" src=\"https://user-images.githubusercontent.com/86936634/176907069-6ae5fe05-3364-4e28-89f4-440148da005f.png\">\n",
    "- 오차만큼의 패널티 부여"
   ]
  },
  {
   "cell_type": "markdown",
   "id": "7e633eac",
   "metadata": {},
   "source": [
    "# Top-k(ranking) 기반 성능 지표"
   ]
  },
  {
   "cell_type": "markdown",
   "id": "0603ebc5",
   "metadata": {},
   "source": [
    "- 추천한 아이템 중 사용자에"
   ]
  },
  {
   "cell_type": "code",
   "execution_count": null,
   "id": "f2df4d8a",
   "metadata": {},
   "outputs": [],
   "source": []
  }
 ],
 "metadata": {
  "kernelspec": {
   "display_name": "Python 3 (ipykernel)",
   "language": "python",
   "name": "python3"
  },
  "language_info": {
   "codemirror_mode": {
    "name": "ipython",
    "version": 3
   },
   "file_extension": ".py",
   "mimetype": "text/x-python",
   "name": "python",
   "nbconvert_exporter": "python",
   "pygments_lexer": "ipython3",
   "version": "3.9.10"
  }
 },
 "nbformat": 4,
 "nbformat_minor": 5
}
