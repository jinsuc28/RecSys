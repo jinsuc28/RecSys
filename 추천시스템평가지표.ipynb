{
 "cells": [
  {
   "cell_type": "markdown",
   "id": "4916ac5b",
   "metadata": {},
   "source": [
    "# 추천시스템 평가지표"
   ]
  },
  {
   "cell_type": "markdown",
   "id": "4b4521ca",
   "metadata": {},
   "source": [
    "<img width=\"956\" alt=\"스크린샷 2022-07-01 오후 10 29 12\" src=\"https://user-images.githubusercontent.com/86936634/176904172-246d68fd-be3f-4c26-bfbe-4b6e058c263c.png\">"
   ]
  },
  {
   "cell_type": "markdown",
   "id": "b33d2b49",
   "metadata": {},
   "source": [
    "- 크게 3가지로 성능 검증을 진행할 수 있다.\n",
    "- 이력데이터 기반, 심사위원 평가, A/B test"
   ]
  },
  {
   "cell_type": "markdown",
   "id": "28fae84c",
   "metadata": {},
   "source": [
    "## 사전 검증"
   ]
  },
  {
   "cell_type": "markdown",
   "id": "2c369aa3",
   "metadata": {},
   "source": [
    "- 학습한 추천시스템 모델을 배포 전 사전에 검증하는 평가를 말한다."
   ]
  },
  {
   "cell_type": "markdown",
   "id": "b1d5d727",
   "metadata": {},
   "source": [
    "- ### 이력 데이터 기반 성능 평가"
   ]
  },
  {
   "cell_type": "markdown",
   "id": "a48b39ed",
   "metadata": {},
   "source": [
    "- 이력 데이터 기반 Evaluation Metric 평가 방법\n",
    "- 구체적인 평가 지표는 밑에서 알아보자\n",
    "- 한계: 신규 추천 결과에 대한 사용자의 반응을 알 수 없음"
   ]
  },
  {
   "cell_type": "markdown",
   "id": "db3ad698",
   "metadata": {},
   "source": [
    "- ### 심사위원 평가"
   ]
  },
  {
   "cell_type": "markdown",
   "id": "90a6242b",
   "metadata": {},
   "source": [
    "- 심사위원을 선정하여 추천 평가\n",
    "- ex) 내부인력, 외부인력 등\n",
    "- quality and trust of feedback"
   ]
  },
  {
   "cell_type": "markdown",
   "id": "5859de80",
   "metadata": {},
   "source": [
    "## 사후 검증"
   ]
  },
  {
   "cell_type": "markdown",
   "id": "89bbc628",
   "metadata": {},
   "source": [
    "- 신규 추천 모델과 기존 모델과 A/B 테스트 방법이다.\n",
    "- 일정 비율의 고객에게 기존모델과 신규모델을 제공하여 성능 비교\n",
    "- 서비스의 KPI 지표로 평가 진행\n",
    "- ex) CTR, 매출 등등"
   ]
  },
  {
   "cell_type": "markdown",
   "id": "ddc313b6",
   "metadata": {},
   "source": [
    "# 구체적인 이력 데이터 기반 성능 지표"
   ]
  },
  {
   "cell_type": "markdown",
   "id": "f38581b9",
   "metadata": {},
   "source": [
    "- Prediction 목표가 Rating, Top-k(ranking) 따라 다른 지표를 이용한다."
   ]
  },
  {
   "cell_type": "markdown",
   "id": "d7d535b7",
   "metadata": {},
   "source": [
    "# 1. Rating 기반 성능 지표"
   ]
  },
  {
   "cell_type": "markdown",
   "id": "2752fb2e",
   "metadata": {},
   "source": [
    "- 모델이 예측한 Rating과 실제 Rating 차를 계산\n",
    "- MAE, RMSE 등 선형회귀에서 사용하는 지표들을 사용할 수 있다."
   ]
  },
  {
   "cell_type": "markdown",
   "id": "fe6cbaa3",
   "metadata": {},
   "source": [
    "- ### Mean Absolute Error"
   ]
  },
  {
   "cell_type": "markdown",
   "id": "06c74be1",
   "metadata": {},
   "source": [
    "<img width=\"308\" alt=\"스크린샷 2022-07-01 오후 10 47 05\" src=\"https://user-images.githubusercontent.com/86936634/176907155-29d7bd48-5d67-4ca1-a055-198b94e45320.png\">\n",
    "- 큰 오차에 큰 패널티, 작은 오차에 작은 패널티를 주는 지표"
   ]
  },
  {
   "cell_type": "markdown",
   "id": "019db23c",
   "metadata": {},
   "source": [
    "- ### Root Mean Squre Error"
   ]
  },
  {
   "cell_type": "markdown",
   "id": "de288f1b",
   "metadata": {},
   "source": [
    "<img width=\"308\" alt=\"스크린샷 2022-07-01 오후 10 46 22\" src=\"https://user-images.githubusercontent.com/86936634/176907069-6ae5fe05-3364-4e28-89f4-440148da005f.png\">\n",
    "- 오차만큼의 패널티 부여"
   ]
  },
  {
   "cell_type": "markdown",
   "id": "27e23f4b",
   "metadata": {},
   "source": [
    "# Rating 기반 성능 지표 문제점\n",
    "    - Sparcity, Fairness, Asymmetric impact"
   ]
  },
  {
   "cell_type": "markdown",
   "id": "2a041540",
   "metadata": {},
   "source": [
    "* ## Sparcity\n"
   ]
  },
  {
   "cell_type": "markdown",
   "id": "51509fae",
   "metadata": {},
   "source": [
    "실제 값을 모두 알고 있는 것은 아니라는 점\n"
   ]
  },
  {
   "cell_type": "markdown",
   "id": "9cd93155",
   "metadata": {},
   "source": [
    "- ## Fairness"
   ]
  },
  {
   "cell_type": "markdown",
   "id": "12d0fcfe",
   "metadata": {},
   "source": [
    "각 별점을 균등하게 취급하는데, 별점을 많이 매긴 user 중심의 모델이 만들어 짐   \n",
    "아래와 같은 목적함수로 모든 Sparse 유저 데이터라도 모두 동등하게 모델 학습을 시킬 수 있음\n",
    "- 우리 서비스 많이 이용한 유저를 위한 모델을 만들 것기냐 VS 적게 이용한 유저에게도 동등한 모델을 만들 것이냐 문제"
   ]
  },
  {
   "cell_type": "markdown",
   "id": "f285ecf8",
   "metadata": {},
   "source": [
    "<img width='400' src='img/Fairness.png'>"
   ]
  },
  {
   "cell_type": "markdown",
   "id": "7ddc0b56",
   "metadata": {},
   "source": [
    "|u|: 유저 수   \n",
    "|Ru|: 유저 숫자 값"
   ]
  },
  {
   "cell_type": "markdown",
   "id": "47b44c24",
   "metadata": {},
   "source": [
    "* ## Asymmetric impact"
   ]
  },
  {
   "cell_type": "markdown",
   "id": "3d6d49de",
   "metadata": {},
   "source": [
    "- 같은 크기의 오차에 대해 같은 수준으 penalty를 주었다.\n",
    "- 하지만 몇점 짜리를 틀렸느냐 따라 영향이 다를 수 있다.\n",
    "- (5점-4점)==(4점-3점)은 다른게 반영해야한다!!\n",
    "- 아래와 같은 방법으로 목적함수를 설계할 수 있다."
   ]
  },
  {
   "cell_type": "markdown",
   "id": "d1f72917",
   "metadata": {},
   "source": [
    "<img src=\"img/Asymmetricimpact.png\" img>"
   ]
  },
  {
   "cell_type": "markdown",
   "id": "7e633eac",
   "metadata": {},
   "source": [
    "# 2. Top-k(ranking) 기반 성능 지표"
   ]
  },
  {
   "cell_type": "markdown",
   "id": "0603ebc5",
   "metadata": {},
   "source": [
    "추천 목록의 전반적인 정확도를 측정"
   ]
  },
  {
   "cell_type": "markdown",
   "id": "e726ad34",
   "metadata": {},
   "source": [
    "### Precision & Recall @K"
   ]
  },
  {
   "cell_type": "markdown",
   "id": "d6985da5",
   "metadata": {},
   "source": [
    "K개 추천을 했을 때 Precision과 Recall   \n",
    "한계점: 순위에 대한 점수를 반영하지 못함"
   ]
  },
  {
   "cell_type": "markdown",
   "id": "2aca7879",
   "metadata": {},
   "source": [
    "<img width='700' src='img/PrecisionRecall.png'>"
   ]
  },
  {
   "cell_type": "markdown",
   "id": "1e37117e",
   "metadata": {},
   "source": [
    "### 순위까지 반영 목표 지표들"
   ]
  },
  {
   "cell_type": "markdown",
   "id": "14973ba6",
   "metadata": {},
   "source": [
    "## Average Precision@K (AP@k)"
   ]
  },
  {
   "cell_type": "markdown",
   "id": "ffe1b193",
   "metadata": {},
   "source": [
    "- 추천된 아이템의 순서를 반영하여 Relevance(관련성)이 있는 아이템이 상위 추천될 때 높은 점수 부여   \n",
    "- rel(Relevance)는 0,1로 표현되며 각 점수에 곱해진다.\n",
    "- 유저가 선호한 아이템인 경우 1로 아닌경우 0"
   ]
  },
  {
   "cell_type": "markdown",
   "id": "5b08205f",
   "metadata": {},
   "source": [
    "<img width='500' src='img/AveragePrecision.png'>"
   ]
  },
  {
   "cell_type": "markdown",
   "id": "64fe5376",
   "metadata": {},
   "source": [
    "### AP 계산 예시\n",
    "<img width='400' src='img/AP예시.png'>"
   ]
  },
  {
   "cell_type": "markdown",
   "id": "29a37910",
   "metadata": {},
   "source": [
    "AP@5 = 1/5*((1/1*1)+(1/2*0)+(2/3*1)+(2/4*0)+(3/5*1))   \n",
    "AP@5 = 0.45"
   ]
  },
  {
   "cell_type": "markdown",
   "id": "f970eabf",
   "metadata": {},
   "source": [
    "## Mean Average Precision"
   ]
  },
  {
   "cell_type": "markdown",
   "id": "82d47420",
   "metadata": {},
   "source": [
    "- 평가 데이터가 여러개인 경우(ex:유저가 선호아이템이 여러개 평가해야함) 각 평가 데이터에 대한 결과의 평균을 계산\n",
    "- 각 평가 데이터 AP의 평균을 계산"
   ]
  },
  {
   "cell_type": "markdown",
   "id": "dad0ffc1",
   "metadata": {},
   "source": [
    "<img width='500' src='img/MAP.png'>"
   ]
  },
  {
   "cell_type": "markdown",
   "id": "10bb9a38",
   "metadata": {},
   "source": [
    "## Normalized Discounted Cumulative Gain(NDCG)"
   ]
  },
  {
   "cell_type": "markdown",
   "id": "54c11a22",
   "metadata": {},
   "source": [
    "- 순서를 반영하는데 있어서 AP,MAP같은 경우 rel값이 0,1로 고정\n",
    "- 하지만 NDCG는 데이터의 따라서 rel 값을 변경하여 평가가 가능\n",
    "- NDCG를 이해하기 위해 CG,DCG,IDCG를 살펴보자"
   ]
  },
  {
   "cell_type": "markdown",
   "id": "ae0fc633",
   "metadata": {},
   "source": [
    "- relevance란\n",
    "    사용자가 특정 아이템과 얼마나 관련이 있는지를 나타내는 값   \n",
    "ex) 아이템을 좋아하면 1, 아니면 0   \n",
    "ex) 네이버 영화 평점 0~5점 등등"
   ]
  },
  {
   "cell_type": "markdown",
   "id": "6ae138b6",
   "metadata": {},
   "source": [
    "## Cumulative Gain(CG)"
   ]
  },
  {
   "cell_type": "markdown",
   "id": "a58f4113",
   "metadata": {},
   "source": [
    "CG는 추천한 아이템의 Relevance 합이다"
   ]
  },
  {
   "cell_type": "markdown",
   "id": "9ef3d812",
   "metadata": {},
   "source": [
    "## Discounted Cumulative Gain(DCG)"
   ]
  },
  {
   "cell_type": "markdown",
   "id": "a370e184",
   "metadata": {},
   "source": [
    "CG에 순서에 따른 할인 개념을 도입한 것\n",
    "- 한계점   \n",
    "- 사용자별로 추천 아이템의 수가 다른 경우 정확한 성능 평가가 어렵다는 한계점\n",
    "- ex) 같은 쇼핑몰의 추천모델 비교를 한다고 했을 때 추천하는 아이템 수가 다르면 비교가 어려움\n",
    "- DCG특성상 추천수가 늘어나면 점수가 늘어나게됨"
   ]
  },
  {
   "cell_type": "markdown",
   "id": "d6f3c080",
   "metadata": {},
   "source": [
    "<img width='400' src='img/DCG.png'>"
   ]
  },
  {
   "cell_type": "markdown",
   "id": "46460239",
   "metadata": {},
   "source": [
    "## Ideal DCG(IDCG)"
   ]
  },
  {
   "cell_type": "markdown",
   "id": "f866a4ae",
   "metadata": {},
   "source": [
    "DCG 값을 해당 query(user)의 최대 값을 말한다.\n",
    "즉, user마다 최선의 추천을 했을 때 값이다.   \n",
    "NDCG에서 DCG값을 Noramlize 용도로 사용된다.   \n",
    "ex)최대값은 예측된 순서가 실제 선호도 순서와 정확히 일치할 때   "
   ]
  },
  {
   "cell_type": "markdown",
   "id": "68445bf5",
   "metadata": {},
   "source": [
    "<img width='400' src='img/IDCG.png'>"
   ]
  },
  {
   "cell_type": "markdown",
   "id": "7bd81fb1",
   "metadata": {},
   "source": [
    "## NDCG"
   ]
  },
  {
   "cell_type": "markdown",
   "id": "103ac247",
   "metadata": {},
   "source": [
    "- 가장 이상적인 추천 조합 대비 현재 모델의 추천 리스트가 얼마나 좋은지를 나타내는 지표\n",
    "- 정규화를 진행하였기 때문에 0~1 값을 가진다.\n",
    "- 아래는 DCG와 NDCG 모델성능 비교시 그림\n",
    "- K가 증가함의 따라 DCG는 계속증가하는 양상을 보이지만\n",
    "- NDCG는 K가 증가하더라도 K의 비교적 독립적이여서 어떤 K(추천 개수)가 적절한 지 판단가능 &스케일이 작기 때문에 비교도 용이"
   ]
  },
  {
   "cell_type": "markdown",
   "id": "e3d38027",
   "metadata": {},
   "source": [
    "<img src='img/NDCG_DCG_비교.png'>"
   ]
  },
  {
   "cell_type": "markdown",
   "id": "4bc800d8",
   "metadata": {},
   "source": [
    "## 총 계산 정리"
   ]
  },
  {
   "cell_type": "markdown",
   "id": "09b73ba9",
   "metadata": {},
   "source": [
    "<img src='img/NDCG.png'>"
   ]
  },
  {
   "cell_type": "markdown",
   "id": "b6fffd67",
   "metadata": {},
   "source": [
    "- reference.  \n",
    "<https://sungkee-book.tistory.com/11>"
   ]
  }
 ],
 "metadata": {
  "kernelspec": {
   "display_name": "Python 3 (ipykernel)",
   "language": "python",
   "name": "python3"
  },
  "language_info": {
   "codemirror_mode": {
    "name": "ipython",
    "version": 3
   },
   "file_extension": ".py",
   "mimetype": "text/x-python",
   "name": "python",
   "nbconvert_exporter": "python",
   "pygments_lexer": "ipython3",
   "version": "3.9.10"
  }
 },
 "nbformat": 4,
 "nbformat_minor": 5
}
