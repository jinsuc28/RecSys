{
 "cells": [
  {
   "cell_type": "markdown",
   "id": "29eb5699",
   "metadata": {},
   "source": [
    "# 1. 추천시스템 종류"
   ]
  },
  {
   "cell_type": "markdown",
   "id": "ef6a2826",
   "metadata": {},
   "source": [
    "<img width=\"784\" alt=\"스크린샷 2022-06-30 오후 3 10 57\" src=\"https://user-images.githubusercontent.com/86936634/176609275-48670192-e481-4c1f-8950-3bf1d43fc431.png\">"
   ]
  },
  {
   "cell_type": "markdown",
   "id": "a38cc42a",
   "metadata": {},
   "source": [
    "- CB, CF, Hybrid model\n",
    "- 추천시스템은 위와 같이 크게 3개로 분류해볼 수 있다."
   ]
  },
  {
   "cell_type": "markdown",
   "id": "f4889e3f",
   "metadata": {},
   "source": [
    "# 컨텐츠 기반(Content base model) 방식"
   ]
  },
  {
   "cell_type": "markdown",
   "id": "98275d04",
   "metadata": {},
   "source": [
    "- 사용자와 제품의 속성값을 이용해 추천하는 방식"
   ]
  },
  {
   "cell_type": "markdown",
   "id": "417ceb4e",
   "metadata": {},
   "source": [
    "## 예시\n",
    "- 사용자 인구통학적 정보   \n",
    "성별,나이,거주지역,관심사 등\n",
    "- 제품 속성 정보   \n",
    "영화의 경우 제목,장르,출연배우 등\n",
    "- 제품 자체   \n",
    "음원, 비디오 같은 제품자체를 딥러닝 기반 feature 추출이 가능한 경우"
   ]
  },
  {
   "cell_type": "markdown",
   "id": "c369fe56",
   "metadata": {},
   "source": [
    "# 협업필터링(collaborative filtering) 기반 방식"
   ]
  },
  {
   "cell_type": "markdown",
   "id": "5315bdb9",
   "metadata": {},
   "source": [
    "- 사용자들의 과거 행적이나 기호 데이터를 활용하는 방식"
   ]
  },
  {
   "cell_type": "markdown",
   "id": "5cdb6f3c",
   "metadata": {},
   "source": [
    "## 예시"
   ]
  },
  {
   "cell_type": "markdown",
   "id": "398aa656",
   "metadata": {},
   "source": [
    "- 직접적인 기록(Explict Feedback)   \n",
    "좋아요, 별점, 평점 등\n",
    "- 간접적인 기록(Implict Feedback)   \n",
    "Click, Page view, video watch"
   ]
  },
  {
   "cell_type": "markdown",
   "id": "937de5e7",
   "metadata": {},
   "source": [
    "# 메모리기반(Memory base) 방식"
   ]
  },
  {
   "cell_type": "markdown",
   "id": "e2797b03",
   "metadata": {},
   "source": [
    "- 모델을 학습 시킬 때는 전체 training data(rating matrix)를 메모리에 저장하는 것이 전부   \n",
    "이후 각 추천 요청(Query)에 대해, 특정 item 또는 전체 제품들의 대한 선호도를 예측하는 방식"
   ]
  },
  {
   "cell_type": "markdown",
   "id": "58fc6e7d",
   "metadata": {},
   "source": [
    "### 단점"
   ]
  },
  {
   "cell_type": "markdown",
   "id": "900685d5",
   "metadata": {},
   "source": [
    "- 데이터가 커지면 계산량이 늘어나므로 큰 데이터에서 수용이 어렵다.\n",
    "- 온라인 서비스의 부적절"
   ]
  },
  {
   "cell_type": "markdown",
   "id": "741ab092",
   "metadata": {},
   "source": [
    "# 모델 기반 방식"
   ]
  },
  {
   "cell_type": "markdown",
   "id": "1b04ec44",
   "metadata": {},
   "source": [
    "- 모델을 만들기만 하고, 그 파라미터 값들은 데이터로부터 학습하는 방식\n",
    "- ex) 데이터는 모델의 파라미터를 업데이트하는데 만쓰이고 다시 안쓰임, SVD 등등\n",
    "- 현재 대부분의 추천시스템에서 선호하는 방식"
   ]
  },
  {
   "cell_type": "markdown",
   "id": "6e45fbf6",
   "metadata": {},
   "source": [
    "# 복합(Hybird) 모델"
   ]
  },
  {
   "cell_type": "markdown",
   "id": "c025fd4b",
   "metadata": {},
   "source": [
    "- CB+CF인 방식\n",
    "- 각 모델의 단점을 보완한 방법이다."
   ]
  },
  {
   "cell_type": "markdown",
   "id": "0b8870d6",
   "metadata": {},
   "source": [
    "# 2. 요건에 따른 추천시스템 분류"
   ]
  },
  {
   "cell_type": "markdown",
   "id": "d91ce76c",
   "metadata": {},
   "source": [
    "사용자 혹은 서비스에서 필요한 바의 따른 추천시스템 정의\n",
    "- Best Recommandation \n",
    "- Related Recommandation\n",
    "- Personalized Recommandation\n",
    "- Context Aware REcommandation"
   ]
  },
  {
   "cell_type": "markdown",
   "id": "b8cd8b63",
   "metadata": {},
   "source": [
    "# Best Recommandaion"
   ]
  },
  {
   "cell_type": "markdown",
   "id": "74d5e901",
   "metadata": {},
   "source": [
    "- Best 지표의 따른 제품 추천\n",
    "- user base coldstart 문제가 없음\n",
    "- 연관추천, 개인화 추천의 score와 best score를 합산한 지표로 추천 가능"
   ]
  },
  {
   "cell_type": "markdown",
   "id": "d4eceaae",
   "metadata": {},
   "source": [
    "# Related Recommandation"
   ]
  },
  {
   "cell_type": "markdown",
   "id": "fe542a0b",
   "metadata": {},
   "source": [
    "- 대체체, 보완제에 대해 정의하고 추천 가능"
   ]
  },
  {
   "cell_type": "markdown",
   "id": "b94b9efe",
   "metadata": {},
   "source": [
    "# Personalized Recommandation"
   ]
  },
  {
   "cell_type": "markdown",
   "id": "7b48be8b",
   "metadata": {},
   "source": [
    "- 사용자의 개별화된 세밀한 추천\n",
    "- 사용자 이력기반 데이터 이용"
   ]
  },
  {
   "cell_type": "markdown",
   "id": "e5c8b55e",
   "metadata": {},
   "source": [
    "# Context Aware Recommandation"
   ]
  },
  {
   "cell_type": "markdown",
   "id": "d33a43d6",
   "metadata": {},
   "source": [
    "- 특정 상황의 아이템기반 추천 제공"
   ]
  },
  {
   "cell_type": "code",
   "execution_count": null,
   "id": "cf902a0f",
   "metadata": {},
   "outputs": [],
   "source": []
  }
 ],
 "metadata": {
  "kernelspec": {
   "display_name": "Python [conda env:tf25] *",
   "language": "python",
   "name": "conda-env-tf25-py"
  },
  "language_info": {
   "codemirror_mode": {
    "name": "ipython",
    "version": 3
   },
   "file_extension": ".py",
   "mimetype": "text/x-python",
   "name": "python",
   "nbconvert_exporter": "python",
   "pygments_lexer": "ipython3",
   "version": "3.9.0"
  }
 },
 "nbformat": 4,
 "nbformat_minor": 5
}
