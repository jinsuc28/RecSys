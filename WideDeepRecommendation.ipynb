{
 "cells": [
  {
   "cell_type": "markdown",
   "metadata": {},
   "source": [
    "# Wide & Deep Learning for Recommender Systems\n",
    "\n",
    "- 2016년 구글이 발표한 추천시스템 논문\n",
    "- 먼저 살펴 볼 Memorization, Generalization 정의 살펴보자\n",
    "\n",
    "### Memorization\n",
    "\n",
    "- more topical and directly relevant to the items\n",
    "- 자주 등장하는 아이템, 피처의 상관관계 등을 활용\n",
    "- 예시) 마스크 많이 산 사람은 비슷한 마스크만 추천 받게됨(low diversity)\n",
    "\n",
    "### Generalization\n",
    "\n",
    "- imporve diversity of the recommendations\n",
    "- Explore new feature combinations\n",
    "- 다양한 새로운 피처들을 활용하여 추천\n",
    "- 예시) 마스크를 많이 산 사람이라고 할지라도 가전제품에 관심이 있었다면 가전제품 도 추천 받음(diversity improve)\n",
    "- generalization은 위 예시 같은 역할을 함"
   ]
  },
  {
   "cell_type": "markdown",
   "metadata": {},
   "source": [
    "# 1. 배경\n",
    "\n",
    "### 기존 추천 모델의 한계\n",
    "\n",
    "<font size=4> 1. Generalized Linear model </font>\n",
    "\n",
    "- 빈번하게 주어진 데이터에 특화된 모델로 새롭게 관측된(unseen) 데이터에 대해서 취약하다.\n",
    "- unseen 데이터 활용할 경우 오버피팅 문제 발생\n",
    "\n",
    "<font size=4> 2. Embedding based Model </font>\n",
    "\n",
    "- FM, DNN 방법을 활용한 모델은 Generalization 특화 되지만\n",
    "- Non-zero predction으로 섬세한 추천이 불가능하다.(ex:마스크 많이 산사람 더 세분화된 마스크 추천 받지 못하고 가전체품을 추천 받게됨)\n",
    "\n",
    "\n",
    "<font size=4> 제안점 </font>\n",
    "\n",
    "- jointly training feed-forward neural network and linear model 방법 제안\n",
    "- Google에서 오픈소스 형태로 api까지 제공함"
   ]
  },
  {
   "cell_type": "markdown",
   "metadata": {},
   "source": [
    "# 2. Overview\n",
    "\n",
    "<img width='900' src='img/WideDeep/WideDeepOverview.png'>\n",
    "\n",
    "- Memorization 과 Generalization을 모두 학습시키는 방법론 제안\n",
    "\n",
    "<img width='900' src='img/WideDeep/workflow.png'>\n",
    "\n",
    "- 이 논문에 눈여겨 볼 점은 Mlops 기반 workflow 제공했다는 점\n",
    "- 학습과 속도를 모두 챙겼다\n"
   ]
  },
  {
   "cell_type": "markdown",
   "metadata": {},
   "source": [
    "# 3. Objection Wide & Deep\n",
    "\n",
    "## 1. Wide Component\n",
    "\n",
    "<img width='900' src='img/WideDeep/widecomponent.png'>\n",
    "\n",
    "- linear model를 모사하는 component\n",
    "- y는 유저 행동 여부 (0 or 1)\n",
    "- 두가지 종류를 input으로 넣을 수 있다.\n",
    "- 1.raw input feature: 기존 데이터 모두 혹은 일부\n",
    "- 2.cross product feature: 기존 컬럼들을 조합하여 새로운 컬럼으로 만든다.\n",
    "- 이는 feature 간 interaction을 반영하기 위함이다.\n",
    "\n",
    "<img width='900' src='img/WideDeep/wideinput.jpeg'>\n",
    "\n",
    "- 위 그림처럼 install_app =  [A,B], impression_app = [A,C] 종류의 앱을 데이터가 있다고 할 때\n",
    "- 모든 조합의 수는 9개가 된다. 이를 데이터프레임으로 표현해 두었다.\n",
    "- interaction 컬럼을 만들고 install, impression컬럼이 모두 1일 때 interaction 컬럼의 row 값이 1이 된다.\n",
    "- 단점으로는 0이 되는 pair는 학습이 불가능하다.\n",
    "\n",
    "## 2. Deep Component\n",
    "\n",
    "<img width='900' src='img/WideDeep/deepcomponent.png'>\n",
    "\n",
    "- deep 모델은 wide와는 달리 interaction 데이터를 만들어 줄 필요가 없다.\n",
    "- 왜냐하면 임베딩 공간에 interaction이 충분히 표현되기 때문이다.\n",
    "\n",
    "<img width='700' src='img/WideDeep/deepinput.png'>\n",
    "\n",
    "- 두 피처의 interaction은 multi-layer가 만든 non-linear한 공간에 표현이 된다.\n",
    "- 하지만 매우 적게 등장하는 interaction 정보는 충분한 정보가 부족하기 때문에 표현이 안될 수 있다.\n",
    "- 이는 희소한 데이터일 경우 전혀 관계없는 아이템이 추천될 수도 있다.\n"
   ]
  },
  {
   "cell_type": "markdown",
   "metadata": {},
   "source": [
    "# 4. 학습 방법\n",
    "\n"
   ]
  },
  {
   "cell_type": "markdown",
   "metadata": {},
   "source": [
    "<img width='700' src='img/WideDeep/train.png'>\n",
    "\n",
    "### wide\n",
    "\n",
    "- FTRL 기반 L1 규제를 적용한다.\n",
    "\n",
    "### deep\n",
    "\n",
    "- Adagrad를 적용\n",
    "- 각 layer 마다 relu를 적용한다.\n",
    "\n",
    "### Wide & deep\n",
    "\n",
    "<img width='700' src='img/WideDeep/widedeepconcat.png'>\n",
    "\n",
    "- wide와 deep 각각 다른 optimizer가 적용된다.\n",
    "- wide와 deep에서 나온 output을 concat\n",
    "- sigmoid를 적용하여 확률 값을 계산하여 backprop을 진행한다.\n",
    "- 이때 특징적인 부분은 Wide 와 Deep이 동시에 학습이 진행된다는 점이다.\n",
    "- 기존 앙상블 기법은 독립적을 모델들이 다른 loss에 대해서 학습이 진행되고 모델을 합친다면\n",
    "- 같은 loss 기반으로 학습이 진행된다는 점이 큰 차이다. 이를 joint training라고 부른다."
   ]
  },
  {
   "cell_type": "markdown",
   "metadata": {},
   "source": [
    "# 5. 속도 관련 실험\n",
    "\n",
    "<img width='500' src='img/WideDeep/threadlatency.png'>\n",
    "\n",
    "- thread를 많이 이용할 수록 latency가 14까지 크게 줄어드는 것을 볼 수 있다.\n",
    "- app 서비스까지 고려한 모델이다."
   ]
  },
  {
   "cell_type": "markdown",
   "metadata": {},
   "source": [
    "# 6. 결론\n",
    "\n",
    "- Memorization(wide)와 Generalization(deep)을 결합한 모델을 제안하였다.\n",
    "- linear model과 embedding model의 장점 조합\n",
    "- 서비스 환경 구현까지 고려한 모델 설계이다."
   ]
  },
  {
   "cell_type": "markdown",
   "metadata": {},
   "source": [
    "# 7. 실습\n",
    "\n",
    "- kmrd 데이터를 통해 실습을 진행\n",
    "- kmrd 평점 데이터를 target으로 1~10점 분포 평점을 binary로 전처리 진행\n",
    "- 9점 초과 1 이하 0으로 예측하도록 하였다.\n",
    "- input 데이터로 장르, year 컬럼 데이터를 이용하였다."
   ]
  },
  {
   "cell_type": "markdown",
   "metadata": {
    "id": "OKoehLiBvxu1"
   },
   "source": [
    "# Wide & Deep Learning for Recommender System\n",
    "\n",
    "- Google에서 App Store를 활용해서 발표한 논문([링크](https://arxiv.org/pdf/1606.07792.pdf))\n"
   ]
  },
  {
   "cell_type": "markdown",
   "metadata": {
    "id": "gWT-_N6MwcMK"
   },
   "source": [
    "## Google 공식 문서\n",
    "- Google의 AI Blog([링크](https://ai.googleblog.com/2016/06/wide-deep-learning-better-together-with.html))\n",
    "- Google의 Tensorflow github([링크](https://github.com/tensorflow/tensorflow/blob/v2.4.0/tensorflow/python/keras/premade/wide_deep.py#L34-L219))\n",
    "- TensorFlow v2.4 API\n",
    "  - [tf.keras.experimental.WideDeepModel](https://www.tensorflow.org/api_docs/python/tf/keras/experimental/WideDeepModel?hl=en#methods_2)\n",
    "  - [tf.estimator.DNNLinearCombinedClassifier](https://www.tensorflow.org/api_docs/python/tf/estimator/DNNLinearCombinedClassifier)"
   ]
  },
  {
   "cell_type": "markdown",
   "metadata": {
    "id": "21eFL-QIw82G"
   },
   "source": [
    "## 함께볼만한 PyTorch Library\n",
    "- [pytorch-widedeep](https://github.com/jrzaurin/pytorch-widedeep)"
   ]
  },
  {
   "cell_type": "code",
   "execution_count": null,
   "metadata": {
    "id": "iQfI1H8CviWd"
   },
   "outputs": [],
   "source": [
    "# !pip install pytorch-widedeep"
   ]
  },
  {
   "cell_type": "code",
   "execution_count": 1,
   "metadata": {
    "executionInfo": {
     "elapsed": 2208,
     "status": "ok",
     "timestamp": 1610010445765,
     "user": {
      "displayName": "Jaewon Fastcampus",
      "photoUrl": "",
      "userId": "05122666633107220130"
     },
     "user_tz": -540
    },
    "id": "R0qUOpjtxQUI"
   },
   "outputs": [],
   "source": [
    "import os\n",
    "import pandas as pd\n",
    "import numpy as np\n",
    "from sklearn.model_selection import train_test_split"
   ]
  },
  {
   "cell_type": "markdown",
   "metadata": {
    "id": "0znUsCEMySHc"
   },
   "source": [
    "## DataLoader"
   ]
  },
  {
   "cell_type": "code",
   "execution_count": 7,
   "metadata": {
    "colab": {
     "base_uri": "https://localhost:8080/"
    },
    "executionInfo": {
     "elapsed": 1317,
     "status": "ok",
     "timestamp": 1610010481836,
     "user": {
      "displayName": "Jaewon Fastcampus",
      "photoUrl": "",
      "userId": "05122666633107220130"
     },
     "user_tz": -540
    },
    "id": "ODZm84AUyUyX",
    "outputId": "30192eea-0de9-4f2f-ae73-0be7201341a6"
   },
   "outputs": [],
   "source": [
    "path = 'data/kmrd/kmr_dataset/datafile/kmrd-small'"
   ]
  },
  {
   "cell_type": "code",
   "execution_count": 8,
   "metadata": {
    "executionInfo": {
     "elapsed": 4183,
     "status": "ok",
     "timestamp": 1610010517470,
     "user": {
      "displayName": "Jaewon Fastcampus",
      "photoUrl": "",
      "userId": "05122666633107220130"
     },
     "user_tz": -540
    },
    "id": "YtES3SqQyctX"
   },
   "outputs": [],
   "source": [
    "df = pd.read_csv(os.path.join(path,'rates.csv'))\n",
    "train_df, val_df = train_test_split(df, test_size=0.2, random_state=1234, shuffle=True)"
   ]
  },
  {
   "cell_type": "code",
   "execution_count": null,
   "metadata": {
    "colab": {
     "base_uri": "https://localhost:8080/"
    },
    "executionInfo": {
     "elapsed": 1436,
     "status": "ok",
     "timestamp": 1610010526588,
     "user": {
      "displayName": "Jaewon Fastcampus",
      "photoUrl": "",
      "userId": "05122666633107220130"
     },
     "user_tz": -540
    },
    "id": "toxmUyn-GuoA",
    "outputId": "472cf9f1-93da-4940-8875-f57c335ceba9"
   },
   "outputs": [
    {
     "data": {
      "text/plain": [
       "(112568, 4)"
      ]
     },
     "metadata": {},
     "output_type": "display_data"
    }
   ],
   "source": [
    "train_df.shape"
   ]
  },
  {
   "cell_type": "code",
   "execution_count": null,
   "metadata": {
    "executionInfo": {
     "elapsed": 1561,
     "status": "ok",
     "timestamp": 1610010534612,
     "user": {
      "displayName": "Jaewon Fastcampus",
      "photoUrl": "",
      "userId": "05122666633107220130"
     },
     "user_tz": -540
    },
    "id": "6AicokteGxOm"
   },
   "outputs": [],
   "source": [
    "train_df = train_df[:]"
   ]
  },
  {
   "cell_type": "code",
   "execution_count": 10,
   "metadata": {
    "colab": {
     "base_uri": "https://localhost:8080/"
    },
    "executionInfo": {
     "elapsed": 4305,
     "status": "ok",
     "timestamp": 1610010544918,
     "user": {
      "displayName": "Jaewon Fastcampus",
      "photoUrl": "",
      "userId": "05122666633107220130"
     },
     "user_tz": -540
    },
    "id": "TULw8V7vyrvF",
    "outputId": "f69d0d08-b6fb-4a11-e16b-2f117a16f4fe"
   },
   "outputs": [
    {
     "name": "stdout",
     "output_type": "stream",
     "text": [
      "(999, 7)\n"
     ]
    },
    {
     "data": {
      "text/html": [
       "<div>\n",
       "<style scoped>\n",
       "    .dataframe tbody tr th:only-of-type {\n",
       "        vertical-align: middle;\n",
       "    }\n",
       "\n",
       "    .dataframe tbody tr th {\n",
       "        vertical-align: top;\n",
       "    }\n",
       "\n",
       "    .dataframe thead th {\n",
       "        text-align: right;\n",
       "    }\n",
       "</style>\n",
       "<table border=\"1\" class=\"dataframe\">\n",
       "  <thead>\n",
       "    <tr style=\"text-align: right;\">\n",
       "      <th></th>\n",
       "      <th>title</th>\n",
       "      <th>title_eng</th>\n",
       "      <th>year</th>\n",
       "      <th>grade</th>\n",
       "      <th>genres</th>\n",
       "      <th>people</th>\n",
       "      <th>country</th>\n",
       "    </tr>\n",
       "    <tr>\n",
       "      <th>movie</th>\n",
       "      <th></th>\n",
       "      <th></th>\n",
       "      <th></th>\n",
       "      <th></th>\n",
       "      <th></th>\n",
       "      <th></th>\n",
       "      <th></th>\n",
       "    </tr>\n",
       "  </thead>\n",
       "  <tbody>\n",
       "    <tr>\n",
       "      <th>10001</th>\n",
       "      <td>시네마 천국</td>\n",
       "      <td>Cinema Paradiso , 1988</td>\n",
       "      <td>2013.0</td>\n",
       "      <td>전체 관람가</td>\n",
       "      <td>드라마/멜로/로맨스</td>\n",
       "      <td>[4374, 178, 3241, 47952, 47953, 19538, 18991, ...</td>\n",
       "      <td>이탈리아,프랑스</td>\n",
       "    </tr>\n",
       "    <tr>\n",
       "      <th>10002</th>\n",
       "      <td>빽 투 더 퓨쳐</td>\n",
       "      <td>Back To The Future , 1985</td>\n",
       "      <td>2015.0</td>\n",
       "      <td>12세 관람가</td>\n",
       "      <td>SF/코미디</td>\n",
       "      <td>[1076, 4603, 917, 8637, 5104, 9986, 7470, 9987]</td>\n",
       "      <td>미국</td>\n",
       "    </tr>\n",
       "    <tr>\n",
       "      <th>10003</th>\n",
       "      <td>빽 투 더 퓨쳐 2</td>\n",
       "      <td>Back To The Future Part 2 , 1989</td>\n",
       "      <td>2015.0</td>\n",
       "      <td>12세 관람가</td>\n",
       "      <td>SF/코미디</td>\n",
       "      <td>[1076, 4603, 917, 5104, 391, 5106, 5105, 5107,...</td>\n",
       "      <td>미국</td>\n",
       "    </tr>\n",
       "    <tr>\n",
       "      <th>10004</th>\n",
       "      <td>빽 투 더 퓨쳐 3</td>\n",
       "      <td>Back To The Future Part III , 1990</td>\n",
       "      <td>1990.0</td>\n",
       "      <td>전체 관람가</td>\n",
       "      <td>서부/SF/판타지/코미디</td>\n",
       "      <td>[1076, 4603, 1031, 5104, 10001, 5984, 10002, 1...</td>\n",
       "      <td>미국</td>\n",
       "    </tr>\n",
       "    <tr>\n",
       "      <th>10005</th>\n",
       "      <td>스타워즈 에피소드 4 - 새로운 희망</td>\n",
       "      <td>Star Wars , 1977</td>\n",
       "      <td>1997.0</td>\n",
       "      <td>PG</td>\n",
       "      <td>판타지/모험/SF/액션</td>\n",
       "      <td>[1007, 535, 215, 1236, 35]</td>\n",
       "      <td>미국</td>\n",
       "    </tr>\n",
       "  </tbody>\n",
       "</table>\n",
       "</div>"
      ],
      "text/plain": [
       "                      title                           title_eng    year  \\\n",
       "movie                                                                     \n",
       "10001                시네마 천국              Cinema Paradiso , 1988  2013.0   \n",
       "10002              빽 투 더 퓨쳐           Back To The Future , 1985  2015.0   \n",
       "10003            빽 투 더 퓨쳐 2    Back To The Future Part 2 , 1989  2015.0   \n",
       "10004            빽 투 더 퓨쳐 3  Back To The Future Part III , 1990  1990.0   \n",
       "10005  스타워즈 에피소드 4 - 새로운 희망                    Star Wars , 1977  1997.0   \n",
       "\n",
       "         grade         genres  \\\n",
       "movie                           \n",
       "10001   전체 관람가     드라마/멜로/로맨스   \n",
       "10002  12세 관람가         SF/코미디   \n",
       "10003  12세 관람가         SF/코미디   \n",
       "10004   전체 관람가  서부/SF/판타지/코미디   \n",
       "10005       PG   판타지/모험/SF/액션   \n",
       "\n",
       "                                                  people   country  \n",
       "movie                                                               \n",
       "10001  [4374, 178, 3241, 47952, 47953, 19538, 18991, ...  이탈리아,프랑스  \n",
       "10002    [1076, 4603, 917, 8637, 5104, 9986, 7470, 9987]        미국  \n",
       "10003  [1076, 4603, 917, 5104, 391, 5106, 5105, 5107,...        미국  \n",
       "10004  [1076, 4603, 1031, 5104, 10001, 5984, 10002, 1...        미국  \n",
       "10005                         [1007, 535, 215, 1236, 35]        미국  "
      ]
     },
     "execution_count": 10,
     "metadata": {},
     "output_type": "execute_result"
    }
   ],
   "source": [
    "# Load all related dataframe\n",
    "movies_df = pd.read_csv(os.path.join(path, 'movies.txt'), sep='\\t', encoding='utf-8')\n",
    "movies_df = movies_df.set_index('movie')\n",
    "\n",
    "castings_df = pd.read_csv(os.path.join(path, 'castings.csv'), encoding='utf-8')\n",
    "countries_df = pd.read_csv(os.path.join(path, 'countries.csv'), encoding='utf-8')\n",
    "genres_df = pd.read_csv(os.path.join(path, 'genres.csv'), encoding='utf-8')\n",
    "\n",
    "# Get genre information\n",
    "genres = [(list(set(x['movie'].values))[0], '/'.join(x['genre'].values)) for index, x in genres_df.groupby('movie')]\n",
    "combined_genres_df = pd.DataFrame(data=genres, columns=['movie', 'genres'])\n",
    "combined_genres_df = combined_genres_df.set_index('movie')\n",
    "\n",
    "# Get castings information\n",
    "castings = [(list(set(x['movie'].values))[0], x['people'].values) for index, x in castings_df.groupby('movie')]\n",
    "combined_castings_df = pd.DataFrame(data=castings, columns=['movie','people'])\n",
    "combined_castings_df = combined_castings_df.set_index('movie')\n",
    "\n",
    "# Get countries for movie information\n",
    "countries = [(list(set(x['movie'].values))[0], ','.join(x['country'].values)) for index, x in countries_df.groupby('movie')]\n",
    "combined_countries_df = pd.DataFrame(data=countries, columns=['movie', 'country'])\n",
    "combined_countries_df = combined_countries_df.set_index('movie')\n",
    "\n",
    "movies_df = pd.concat([movies_df, combined_genres_df, combined_castings_df, combined_countries_df], axis=1)\n",
    "\n",
    "print(movies_df.shape)\n",
    "movies_df.head()"
   ]
  },
  {
   "cell_type": "code",
   "execution_count": null,
   "metadata": {
    "colab": {
     "base_uri": "https://localhost:8080/"
    },
    "executionInfo": {
     "elapsed": 1422,
     "status": "ok",
     "timestamp": 1610010576563,
     "user": {
      "displayName": "Jaewon Fastcampus",
      "photoUrl": "",
      "userId": "05122666633107220130"
     },
     "user_tz": -540
    },
    "id": "D2ikFFTGzGIZ",
    "outputId": "5a2790c4-7fdd-4f87-d257-49ad842dc97e"
   },
   "outputs": [
    {
     "data": {
      "text/plain": [
       "Index(['title', 'title_eng', 'year', 'grade', 'genres', 'people', 'country'], dtype='object')"
      ]
     },
     "metadata": {},
     "output_type": "display_data"
    }
   ],
   "source": [
    "movies_df.columns"
   ]
  },
  {
   "cell_type": "code",
   "execution_count": null,
   "metadata": {
    "colab": {
     "base_uri": "https://localhost:8080/",
     "height": 195
    },
    "executionInfo": {
     "elapsed": 1525,
     "status": "ok",
     "timestamp": 1610010595206,
     "user": {
      "displayName": "Jaewon Fastcampus",
      "photoUrl": "",
      "userId": "05122666633107220130"
     },
     "user_tz": -540
    },
    "id": "ZZ-qmGxO23lY",
    "outputId": "1b652268-f3e9-4572-cd61-586f394deaa5"
   },
   "outputs": [
    {
     "data": {
      "text/html": [
       "<div>\n",
       "<style scoped>\n",
       "    .dataframe tbody tr th:only-of-type {\n",
       "        vertical-align: middle;\n",
       "    }\n",
       "\n",
       "    .dataframe tbody tr th {\n",
       "        vertical-align: top;\n",
       "    }\n",
       "\n",
       "    .dataframe thead th {\n",
       "        text-align: right;\n",
       "    }\n",
       "</style>\n",
       "<table border=\"1\" class=\"dataframe\">\n",
       "  <thead>\n",
       "    <tr style=\"text-align: right;\">\n",
       "      <th></th>\n",
       "      <th>SF</th>\n",
       "      <th>가족</th>\n",
       "      <th>공포</th>\n",
       "      <th>느와르</th>\n",
       "      <th>다큐멘터리</th>\n",
       "      <th>드라마</th>\n",
       "      <th>로맨스</th>\n",
       "      <th>멜로</th>\n",
       "      <th>모험</th>\n",
       "      <th>뮤지컬</th>\n",
       "      <th>...</th>\n",
       "      <th>범죄</th>\n",
       "      <th>서부</th>\n",
       "      <th>서사</th>\n",
       "      <th>스릴러</th>\n",
       "      <th>애니메이션</th>\n",
       "      <th>액션</th>\n",
       "      <th>에로</th>\n",
       "      <th>전쟁</th>\n",
       "      <th>코미디</th>\n",
       "      <th>판타지</th>\n",
       "    </tr>\n",
       "  </thead>\n",
       "  <tbody>\n",
       "    <tr>\n",
       "      <th>137023</th>\n",
       "      <td>0</td>\n",
       "      <td>0</td>\n",
       "      <td>0</td>\n",
       "      <td>0</td>\n",
       "      <td>0</td>\n",
       "      <td>1</td>\n",
       "      <td>1</td>\n",
       "      <td>1</td>\n",
       "      <td>0</td>\n",
       "      <td>0</td>\n",
       "      <td>...</td>\n",
       "      <td>0</td>\n",
       "      <td>0</td>\n",
       "      <td>0</td>\n",
       "      <td>0</td>\n",
       "      <td>0</td>\n",
       "      <td>0</td>\n",
       "      <td>0</td>\n",
       "      <td>0</td>\n",
       "      <td>0</td>\n",
       "      <td>0</td>\n",
       "    </tr>\n",
       "    <tr>\n",
       "      <th>92868</th>\n",
       "      <td>0</td>\n",
       "      <td>0</td>\n",
       "      <td>0</td>\n",
       "      <td>0</td>\n",
       "      <td>0</td>\n",
       "      <td>0</td>\n",
       "      <td>0</td>\n",
       "      <td>0</td>\n",
       "      <td>0</td>\n",
       "      <td>0</td>\n",
       "      <td>...</td>\n",
       "      <td>0</td>\n",
       "      <td>0</td>\n",
       "      <td>0</td>\n",
       "      <td>0</td>\n",
       "      <td>0</td>\n",
       "      <td>1</td>\n",
       "      <td>0</td>\n",
       "      <td>0</td>\n",
       "      <td>0</td>\n",
       "      <td>0</td>\n",
       "    </tr>\n",
       "    <tr>\n",
       "      <th>94390</th>\n",
       "      <td>0</td>\n",
       "      <td>0</td>\n",
       "      <td>0</td>\n",
       "      <td>0</td>\n",
       "      <td>0</td>\n",
       "      <td>1</td>\n",
       "      <td>0</td>\n",
       "      <td>0</td>\n",
       "      <td>0</td>\n",
       "      <td>0</td>\n",
       "      <td>...</td>\n",
       "      <td>0</td>\n",
       "      <td>0</td>\n",
       "      <td>0</td>\n",
       "      <td>0</td>\n",
       "      <td>0</td>\n",
       "      <td>0</td>\n",
       "      <td>0</td>\n",
       "      <td>0</td>\n",
       "      <td>0</td>\n",
       "      <td>0</td>\n",
       "    </tr>\n",
       "    <tr>\n",
       "      <th>22289</th>\n",
       "      <td>0</td>\n",
       "      <td>0</td>\n",
       "      <td>0</td>\n",
       "      <td>0</td>\n",
       "      <td>0</td>\n",
       "      <td>1</td>\n",
       "      <td>1</td>\n",
       "      <td>1</td>\n",
       "      <td>0</td>\n",
       "      <td>0</td>\n",
       "      <td>...</td>\n",
       "      <td>0</td>\n",
       "      <td>0</td>\n",
       "      <td>0</td>\n",
       "      <td>0</td>\n",
       "      <td>0</td>\n",
       "      <td>0</td>\n",
       "      <td>0</td>\n",
       "      <td>0</td>\n",
       "      <td>0</td>\n",
       "      <td>0</td>\n",
       "    </tr>\n",
       "    <tr>\n",
       "      <th>80155</th>\n",
       "      <td>0</td>\n",
       "      <td>0</td>\n",
       "      <td>0</td>\n",
       "      <td>0</td>\n",
       "      <td>0</td>\n",
       "      <td>1</td>\n",
       "      <td>0</td>\n",
       "      <td>0</td>\n",
       "      <td>0</td>\n",
       "      <td>0</td>\n",
       "      <td>...</td>\n",
       "      <td>0</td>\n",
       "      <td>0</td>\n",
       "      <td>0</td>\n",
       "      <td>0</td>\n",
       "      <td>0</td>\n",
       "      <td>1</td>\n",
       "      <td>0</td>\n",
       "      <td>0</td>\n",
       "      <td>0</td>\n",
       "      <td>0</td>\n",
       "    </tr>\n",
       "  </tbody>\n",
       "</table>\n",
       "<p>5 rows × 21 columns</p>\n",
       "</div>"
      ],
      "text/plain": [
       "        SF  가족  공포  느와르  다큐멘터리  드라마  로맨스  멜로  모험  뮤지컬  ...  범죄  서부  서사  스릴러  \\\n",
       "137023   0   0   0    0      0    1    1   1   0    0  ...   0   0   0    0   \n",
       "92868    0   0   0    0      0    0    0   0   0    0  ...   0   0   0    0   \n",
       "94390    0   0   0    0      0    1    0   0   0    0  ...   0   0   0    0   \n",
       "22289    0   0   0    0      0    1    1   1   0    0  ...   0   0   0    0   \n",
       "80155    0   0   0    0      0    1    0   0   0    0  ...   0   0   0    0   \n",
       "\n",
       "        애니메이션  액션  에로  전쟁  코미디  판타지  \n",
       "137023      0   0   0   0    0    0  \n",
       "92868       0   1   0   0    0    0  \n",
       "94390       0   0   0   0    0    0  \n",
       "22289       0   0   0   0    0    0  \n",
       "80155       0   1   0   0    0    0  \n",
       "\n",
       "[5 rows x 21 columns]"
      ]
     },
     "metadata": {},
     "output_type": "display_data"
    }
   ],
   "source": [
    "dummy_genres_df = movies_df['genres'].str.get_dummies(sep='/')\n",
    "train_genres_df = train_df['movie'].apply(lambda x: dummy_genres_df.loc[x])\n",
    "train_genres_df.head()"
   ]
  },
  {
   "cell_type": "code",
   "execution_count": null,
   "metadata": {
    "colab": {
     "base_uri": "https://localhost:8080/",
     "height": 195
    },
    "executionInfo": {
     "elapsed": 1194,
     "status": "ok",
     "timestamp": 1610010613801,
     "user": {
      "displayName": "Jaewon Fastcampus",
      "photoUrl": "",
      "userId": "05122666633107220130"
     },
     "user_tz": -540
    },
    "id": "HsU17KLB3Q3q",
    "outputId": "21408f0d-43a0-464c-b62d-2f9bc0097c4a"
   },
   "outputs": [
    {
     "data": {
      "text/html": [
       "<div>\n",
       "<style scoped>\n",
       "    .dataframe tbody tr th:only-of-type {\n",
       "        vertical-align: middle;\n",
       "    }\n",
       "\n",
       "    .dataframe tbody tr th {\n",
       "        vertical-align: top;\n",
       "    }\n",
       "\n",
       "    .dataframe thead th {\n",
       "        text-align: right;\n",
       "    }\n",
       "</style>\n",
       "<table border=\"1\" class=\"dataframe\">\n",
       "  <thead>\n",
       "    <tr style=\"text-align: right;\">\n",
       "      <th></th>\n",
       "      <th>grade_12세 관람가</th>\n",
       "      <th>grade_15세 관람가</th>\n",
       "      <th>grade_G</th>\n",
       "      <th>grade_NR</th>\n",
       "      <th>grade_PG</th>\n",
       "      <th>grade_PG-13</th>\n",
       "      <th>grade_R</th>\n",
       "      <th>grade_전체 관람가</th>\n",
       "      <th>grade_청소년 관람불가</th>\n",
       "    </tr>\n",
       "  </thead>\n",
       "  <tbody>\n",
       "    <tr>\n",
       "      <th>137023</th>\n",
       "      <td>1</td>\n",
       "      <td>0</td>\n",
       "      <td>0</td>\n",
       "      <td>0</td>\n",
       "      <td>0</td>\n",
       "      <td>0</td>\n",
       "      <td>0</td>\n",
       "      <td>0</td>\n",
       "      <td>0</td>\n",
       "    </tr>\n",
       "    <tr>\n",
       "      <th>92868</th>\n",
       "      <td>0</td>\n",
       "      <td>0</td>\n",
       "      <td>0</td>\n",
       "      <td>0</td>\n",
       "      <td>1</td>\n",
       "      <td>0</td>\n",
       "      <td>0</td>\n",
       "      <td>0</td>\n",
       "      <td>0</td>\n",
       "    </tr>\n",
       "    <tr>\n",
       "      <th>94390</th>\n",
       "      <td>1</td>\n",
       "      <td>0</td>\n",
       "      <td>0</td>\n",
       "      <td>0</td>\n",
       "      <td>0</td>\n",
       "      <td>0</td>\n",
       "      <td>0</td>\n",
       "      <td>0</td>\n",
       "      <td>0</td>\n",
       "    </tr>\n",
       "    <tr>\n",
       "      <th>22289</th>\n",
       "      <td>0</td>\n",
       "      <td>0</td>\n",
       "      <td>0</td>\n",
       "      <td>0</td>\n",
       "      <td>0</td>\n",
       "      <td>0</td>\n",
       "      <td>0</td>\n",
       "      <td>1</td>\n",
       "      <td>0</td>\n",
       "    </tr>\n",
       "    <tr>\n",
       "      <th>80155</th>\n",
       "      <td>1</td>\n",
       "      <td>0</td>\n",
       "      <td>0</td>\n",
       "      <td>0</td>\n",
       "      <td>0</td>\n",
       "      <td>0</td>\n",
       "      <td>0</td>\n",
       "      <td>0</td>\n",
       "      <td>0</td>\n",
       "    </tr>\n",
       "  </tbody>\n",
       "</table>\n",
       "</div>"
      ],
      "text/plain": [
       "        grade_12세 관람가  grade_15세 관람가  grade_G  grade_NR  grade_PG  \\\n",
       "137023              1              0        0         0         0   \n",
       "92868               0              0        0         0         1   \n",
       "94390               1              0        0         0         0   \n",
       "22289               0              0        0         0         0   \n",
       "80155               1              0        0         0         0   \n",
       "\n",
       "        grade_PG-13  grade_R  grade_전체 관람가  grade_청소년 관람불가  \n",
       "137023            0        0             0               0  \n",
       "92868             0        0             0               0  \n",
       "94390             0        0             0               0  \n",
       "22289             0        0             1               0  \n",
       "80155             0        0             0               0  "
      ]
     },
     "metadata": {},
     "output_type": "display_data"
    }
   ],
   "source": [
    "dummy_grade_df = pd.get_dummies(movies_df['grade'], prefix='grade')\n",
    "train_grade_df = train_df['movie'].apply(lambda x: dummy_grade_df.loc[x])\n",
    "train_grade_df.head()"
   ]
  },
  {
   "cell_type": "code",
   "execution_count": null,
   "metadata": {
    "executionInfo": {
     "elapsed": 950,
     "status": "ok",
     "timestamp": 1610010623773,
     "user": {
      "displayName": "Jaewon Fastcampus",
      "photoUrl": "",
      "userId": "05122666633107220130"
     },
     "user_tz": -540
    },
    "id": "r0qngT_Nz-j9"
   },
   "outputs": [],
   "source": [
    "train_df['year'] = train_df.apply(lambda x: movies_df.loc[x['movie']]['year'], axis=1)"
   ]
  },
  {
   "cell_type": "code",
   "execution_count": null,
   "metadata": {
    "colab": {
     "base_uri": "https://localhost:8080/",
     "height": 282
    },
    "executionInfo": {
     "elapsed": 1272,
     "status": "ok",
     "timestamp": 1610010651820,
     "user": {
      "displayName": "Jaewon Fastcampus",
      "photoUrl": "",
      "userId": "05122666633107220130"
     },
     "user_tz": -540
    },
    "id": "aDxgu9Ij4EKL",
    "outputId": "1c938fb1-8005-41c0-9cd8-6e153f47924d"
   },
   "outputs": [
    {
     "data": {
      "text/html": [
       "<div>\n",
       "<style scoped>\n",
       "    .dataframe tbody tr th:only-of-type {\n",
       "        vertical-align: middle;\n",
       "    }\n",
       "\n",
       "    .dataframe tbody tr th {\n",
       "        vertical-align: top;\n",
       "    }\n",
       "\n",
       "    .dataframe thead th {\n",
       "        text-align: right;\n",
       "    }\n",
       "</style>\n",
       "<table border=\"1\" class=\"dataframe\">\n",
       "  <thead>\n",
       "    <tr style=\"text-align: right;\">\n",
       "      <th></th>\n",
       "      <th>user</th>\n",
       "      <th>movie</th>\n",
       "      <th>rate</th>\n",
       "      <th>time</th>\n",
       "      <th>year</th>\n",
       "      <th>grade_12세 관람가</th>\n",
       "      <th>grade_15세 관람가</th>\n",
       "      <th>grade_G</th>\n",
       "      <th>grade_NR</th>\n",
       "      <th>grade_PG</th>\n",
       "      <th>...</th>\n",
       "      <th>범죄</th>\n",
       "      <th>서부</th>\n",
       "      <th>서사</th>\n",
       "      <th>스릴러</th>\n",
       "      <th>애니메이션</th>\n",
       "      <th>액션</th>\n",
       "      <th>에로</th>\n",
       "      <th>전쟁</th>\n",
       "      <th>코미디</th>\n",
       "      <th>판타지</th>\n",
       "    </tr>\n",
       "  </thead>\n",
       "  <tbody>\n",
       "    <tr>\n",
       "      <th>137023</th>\n",
       "      <td>48423</td>\n",
       "      <td>10764</td>\n",
       "      <td>10</td>\n",
       "      <td>1212241560</td>\n",
       "      <td>1987.0</td>\n",
       "      <td>1</td>\n",
       "      <td>0</td>\n",
       "      <td>0</td>\n",
       "      <td>0</td>\n",
       "      <td>0</td>\n",
       "      <td>...</td>\n",
       "      <td>0</td>\n",
       "      <td>0</td>\n",
       "      <td>0</td>\n",
       "      <td>0</td>\n",
       "      <td>0</td>\n",
       "      <td>0</td>\n",
       "      <td>0</td>\n",
       "      <td>0</td>\n",
       "      <td>0</td>\n",
       "      <td>0</td>\n",
       "    </tr>\n",
       "    <tr>\n",
       "      <th>92868</th>\n",
       "      <td>17307</td>\n",
       "      <td>10170</td>\n",
       "      <td>10</td>\n",
       "      <td>1122185220</td>\n",
       "      <td>1985.0</td>\n",
       "      <td>0</td>\n",
       "      <td>0</td>\n",
       "      <td>0</td>\n",
       "      <td>0</td>\n",
       "      <td>1</td>\n",
       "      <td>...</td>\n",
       "      <td>0</td>\n",
       "      <td>0</td>\n",
       "      <td>0</td>\n",
       "      <td>0</td>\n",
       "      <td>0</td>\n",
       "      <td>1</td>\n",
       "      <td>0</td>\n",
       "      <td>0</td>\n",
       "      <td>0</td>\n",
       "      <td>0</td>\n",
       "    </tr>\n",
       "    <tr>\n",
       "      <th>94390</th>\n",
       "      <td>18180</td>\n",
       "      <td>10048</td>\n",
       "      <td>10</td>\n",
       "      <td>1573403460</td>\n",
       "      <td>2016.0</td>\n",
       "      <td>1</td>\n",
       "      <td>0</td>\n",
       "      <td>0</td>\n",
       "      <td>0</td>\n",
       "      <td>0</td>\n",
       "      <td>...</td>\n",
       "      <td>0</td>\n",
       "      <td>0</td>\n",
       "      <td>0</td>\n",
       "      <td>0</td>\n",
       "      <td>0</td>\n",
       "      <td>0</td>\n",
       "      <td>0</td>\n",
       "      <td>0</td>\n",
       "      <td>0</td>\n",
       "      <td>0</td>\n",
       "    </tr>\n",
       "    <tr>\n",
       "      <th>22289</th>\n",
       "      <td>1498</td>\n",
       "      <td>10001</td>\n",
       "      <td>9</td>\n",
       "      <td>1432684500</td>\n",
       "      <td>2013.0</td>\n",
       "      <td>0</td>\n",
       "      <td>0</td>\n",
       "      <td>0</td>\n",
       "      <td>0</td>\n",
       "      <td>0</td>\n",
       "      <td>...</td>\n",
       "      <td>0</td>\n",
       "      <td>0</td>\n",
       "      <td>0</td>\n",
       "      <td>0</td>\n",
       "      <td>0</td>\n",
       "      <td>0</td>\n",
       "      <td>0</td>\n",
       "      <td>0</td>\n",
       "      <td>0</td>\n",
       "      <td>0</td>\n",
       "    </tr>\n",
       "    <tr>\n",
       "      <th>80155</th>\n",
       "      <td>12541</td>\n",
       "      <td>10022</td>\n",
       "      <td>10</td>\n",
       "      <td>1370458140</td>\n",
       "      <td>1980.0</td>\n",
       "      <td>1</td>\n",
       "      <td>0</td>\n",
       "      <td>0</td>\n",
       "      <td>0</td>\n",
       "      <td>0</td>\n",
       "      <td>...</td>\n",
       "      <td>0</td>\n",
       "      <td>0</td>\n",
       "      <td>0</td>\n",
       "      <td>0</td>\n",
       "      <td>0</td>\n",
       "      <td>1</td>\n",
       "      <td>0</td>\n",
       "      <td>0</td>\n",
       "      <td>0</td>\n",
       "      <td>0</td>\n",
       "    </tr>\n",
       "  </tbody>\n",
       "</table>\n",
       "<p>5 rows × 35 columns</p>\n",
       "</div>"
      ],
      "text/plain": [
       "         user  movie  rate        time    year  grade_12세 관람가  grade_15세 관람가  \\\n",
       "137023  48423  10764    10  1212241560  1987.0              1              0   \n",
       "92868   17307  10170    10  1122185220  1985.0              0              0   \n",
       "94390   18180  10048    10  1573403460  2016.0              1              0   \n",
       "22289    1498  10001     9  1432684500  2013.0              0              0   \n",
       "80155   12541  10022    10  1370458140  1980.0              1              0   \n",
       "\n",
       "        grade_G  grade_NR  grade_PG  ...  범죄  서부  서사  스릴러  애니메이션  액션  에로  전쟁  \\\n",
       "137023        0         0         0  ...   0   0   0    0      0   0   0   0   \n",
       "92868         0         0         1  ...   0   0   0    0      0   1   0   0   \n",
       "94390         0         0         0  ...   0   0   0    0      0   0   0   0   \n",
       "22289         0         0         0  ...   0   0   0    0      0   0   0   0   \n",
       "80155         0         0         0  ...   0   0   0    0      0   1   0   0   \n",
       "\n",
       "        코미디  판타지  \n",
       "137023    0    0  \n",
       "92868     0    0  \n",
       "94390     0    0  \n",
       "22289     0    0  \n",
       "80155     0    0  \n",
       "\n",
       "[5 rows x 35 columns]"
      ]
     },
     "metadata": {},
     "output_type": "display_data"
    }
   ],
   "source": [
    "train_df = pd.concat([train_df, train_grade_df, train_genres_df], axis=1)\n",
    "train_df.head()"
   ]
  },
  {
   "cell_type": "code",
   "execution_count": null,
   "metadata": {
    "colab": {
     "base_uri": "https://localhost:8080/"
    },
    "executionInfo": {
     "elapsed": 1368,
     "status": "ok",
     "timestamp": 1610010700891,
     "user": {
      "displayName": "Jaewon Fastcampus",
      "photoUrl": "",
      "userId": "05122666633107220130"
     },
     "user_tz": -540
    },
    "id": "LVhr1q-t4dT3",
    "outputId": "34e40e6b-80ac-4b29-d1e2-4ae2673d292d"
   },
   "outputs": [
    {
     "data": {
      "text/plain": [
       "['SF',\n",
       " '가족',\n",
       " '공포',\n",
       " '느와르',\n",
       " '다큐멘터리',\n",
       " '드라마',\n",
       " '로맨스',\n",
       " '멜로',\n",
       " '모험',\n",
       " '뮤지컬',\n",
       " '미스터리',\n",
       " '범죄',\n",
       " '서부',\n",
       " '서사',\n",
       " '스릴러',\n",
       " '애니메이션',\n",
       " '액션',\n",
       " '에로',\n",
       " '전쟁',\n",
       " '코미디',\n",
       " '판타지',\n",
       " 'grade_12세 관람가',\n",
       " 'grade_15세 관람가',\n",
       " 'grade_G',\n",
       " 'grade_NR',\n",
       " 'grade_PG',\n",
       " 'grade_PG-13',\n",
       " 'grade_R',\n",
       " 'grade_전체 관람가',\n",
       " 'grade_청소년 관람불가']"
      ]
     },
     "metadata": {},
     "output_type": "display_data"
    }
   ],
   "source": [
    "wide_cols = list(dummy_genres_df.columns) + list(dummy_grade_df.columns)\n",
    "wide_cols"
   ]
  },
  {
   "cell_type": "code",
   "execution_count": null,
   "metadata": {
    "colab": {
     "base_uri": "https://localhost:8080/"
    },
    "executionInfo": {
     "elapsed": 1156,
     "status": "ok",
     "timestamp": 1610010734169,
     "user": {
      "displayName": "Jaewon Fastcampus",
      "photoUrl": "",
      "userId": "05122666633107220130"
     },
     "user_tz": -540
    },
    "id": "Q7RbNVlz6JI7",
    "outputId": "25af8166-fab5-45d1-eca7-bd517cd9fd68"
   },
   "outputs": [
    {
     "name": "stdout",
     "output_type": "stream",
     "text": [
      "30\n",
      "['SF', '가족', '공포', '느와르', '다큐멘터리', '드라마', '로맨스', '멜로', '모험', '뮤지컬', '미스터리', '범죄', '서부', '서사', '스릴러', '애니메이션', '액션', '에로', '전쟁', '코미디', '판타지', 'grade_12세 관람가', 'grade_15세 관람가', 'grade_G', 'grade_NR', 'grade_PG', 'grade_PG-13', 'grade_R', 'grade_전체 관람가', 'grade_청소년 관람불가']\n"
     ]
    }
   ],
   "source": [
    "print(len(wide_cols))\n",
    "print(wide_cols)\n",
    "\n",
    "wide_cols = wide_cols[:3]"
   ]
  },
  {
   "cell_type": "code",
   "execution_count": null,
   "metadata": {
    "colab": {
     "base_uri": "https://localhost:8080/"
    },
    "executionInfo": {
     "elapsed": 2048,
     "status": "ok",
     "timestamp": 1610010751156,
     "user": {
      "displayName": "Jaewon Fastcampus",
      "photoUrl": "",
      "userId": "05122666633107220130"
     },
     "user_tz": -540
    },
    "id": "3w5_Lt8p72vS",
    "outputId": "896e60aa-6854-4783-a88c-73b0ea0c033e"
   },
   "outputs": [
    {
     "data": {
      "text/plain": [
       "['SF', '가족', '공포']"
      ]
     },
     "metadata": {},
     "output_type": "display_data"
    }
   ],
   "source": [
    "# wide_cols = ['genre', 'grade']\n",
    "# cross_cols = [('genre', 'grade')]\n",
    "wide_cols"
   ]
  },
  {
   "cell_type": "code",
   "execution_count": null,
   "metadata": {
    "colab": {
     "base_uri": "https://localhost:8080/"
    },
    "executionInfo": {
     "elapsed": 1312,
     "status": "ok",
     "timestamp": 1610010760277,
     "user": {
      "displayName": "Jaewon Fastcampus",
      "photoUrl": "",
      "userId": "05122666633107220130"
     },
     "user_tz": -540
    },
    "id": "z-HbaKgU6fJu",
    "outputId": "6aef1608-5acb-4f4e-e31c-82667fc36760"
   },
   "outputs": [
    {
     "name": "stdout",
     "output_type": "stream",
     "text": [
      "[[('SF', 'SF'), ('가족', 'SF'), ('공포', 'SF')], [('SF', 'SF'), ('가족', 'SF'), ('공포', '가족')], [('SF', 'SF'), ('가족', 'SF'), ('공포', '공포')], [('SF', 'SF'), ('가족', '가족'), ('공포', 'SF')], [('SF', 'SF'), ('가족', '가족'), ('공포', '가족')], [('SF', 'SF'), ('가족', '가족'), ('공포', '공포')], [('SF', 'SF'), ('가족', '공포'), ('공포', 'SF')], [('SF', 'SF'), ('가족', '공포'), ('공포', '가족')], [('SF', 'SF'), ('가족', '공포'), ('공포', '공포')], [('SF', '가족'), ('가족', 'SF'), ('공포', 'SF')], [('SF', '가족'), ('가족', 'SF'), ('공포', '가족')], [('SF', '가족'), ('가족', 'SF'), ('공포', '공포')], [('SF', '가족'), ('가족', '가족'), ('공포', 'SF')], [('SF', '가족'), ('가족', '가족'), ('공포', '가족')], [('SF', '가족'), ('가족', '가족'), ('공포', '공포')], [('SF', '가족'), ('가족', '공포'), ('공포', 'SF')], [('SF', '가족'), ('가족', '공포'), ('공포', '가족')], [('SF', '가족'), ('가족', '공포'), ('공포', '공포')], [('SF', '공포'), ('가족', 'SF'), ('공포', 'SF')], [('SF', '공포'), ('가족', 'SF'), ('공포', '가족')], [('SF', '공포'), ('가족', 'SF'), ('공포', '공포')], [('SF', '공포'), ('가족', '가족'), ('공포', 'SF')], [('SF', '공포'), ('가족', '가족'), ('공포', '가족')], [('SF', '공포'), ('가족', '가족'), ('공포', '공포')], [('SF', '공포'), ('가족', '공포'), ('공포', 'SF')], [('SF', '공포'), ('가족', '공포'), ('공포', '가족')], [('SF', '공포'), ('가족', '공포'), ('공포', '공포')]]\n",
      "[('공포', '가족'), ('공포', 'SF'), ('가족', '공포'), ('가족', 'SF'), ('SF', '가족'), ('SF', '공포')]\n"
     ]
    }
   ],
   "source": [
    "import itertools\n",
    "from itertools import product  \n",
    "unique_combinations = list(list(zip(wide_cols, element)) \n",
    "                           for element in product(wide_cols, repeat = len(wide_cols))) \n",
    "\n",
    "print(unique_combinations)\n",
    "cross_cols = [item for sublist in unique_combinations for item in sublist]\n",
    "cross_cols = [x for x in cross_cols if x[0] != x[1]]\n",
    "cross_cols = list(set(cross_cols))\n",
    "print(cross_cols)"
   ]
  },
  {
   "cell_type": "code",
   "execution_count": null,
   "metadata": {
    "colab": {
     "base_uri": "https://localhost:8080/"
    },
    "executionInfo": {
     "elapsed": 1370,
     "status": "ok",
     "timestamp": 1610010841480,
     "user": {
      "displayName": "Jaewon Fastcampus",
      "photoUrl": "",
      "userId": "05122666633107220130"
     },
     "user_tz": -540
    },
    "id": "os2XPky1zyrG",
    "outputId": "c4961a14-2a80-41ca-d75b-8e72d6958095"
   },
   "outputs": [
    {
     "name": "stdout",
     "output_type": "stream",
     "text": [
      "[('가족', 16), ('SF', 16), ('공포', 16)]\n",
      "['year']\n"
     ]
    }
   ],
   "source": [
    "# embed_cols = [('genre', 16),('grade', 16)]\n",
    "embed_cols = list(set([(x[0], 16) for x in cross_cols]))\n",
    "continuous_cols = ['year']\n",
    "\n",
    "print(embed_cols)\n",
    "print(continuous_cols)"
   ]
  },
  {
   "cell_type": "code",
   "execution_count": null,
   "metadata": {
    "executionInfo": {
     "elapsed": 1498,
     "status": "ok",
     "timestamp": 1610010871697,
     "user": {
      "displayName": "Jaewon Fastcampus",
      "photoUrl": "",
      "userId": "05122666633107220130"
     },
     "user_tz": -540
    },
    "id": "T7uvvmjS0Fv-"
   },
   "outputs": [],
   "source": [
    "target = train_df['rate'].apply(lambda x: 1 if x > 9 else 0).values"
   ]
  },
  {
   "cell_type": "markdown",
   "metadata": {
    "id": "C9yiNgiN0oUy"
   },
   "source": [
    "## Wide & Deep"
   ]
  },
  {
   "cell_type": "code",
   "execution_count": null,
   "metadata": {
    "executionInfo": {
     "elapsed": 8650,
     "status": "ok",
     "timestamp": 1610010920649,
     "user": {
      "displayName": "Jaewon Fastcampus",
      "photoUrl": "",
      "userId": "05122666633107220130"
     },
     "user_tz": -540
    },
    "id": "tGogfgZ40Uq4"
   },
   "outputs": [],
   "source": [
    "from pytorch_widedeep import Trainer\n",
    "from pytorch_widedeep.preprocessing import WidePreprocessor, TabPreprocessor\n",
    "from pytorch_widedeep.models import Wide, TabMlp, WideDeep\n",
    "from pytorch_widedeep.metrics import Accuracy\n",
    "from pytorch_widedeep.datasets import load_adult"
   ]
  },
  {
   "cell_type": "markdown",
   "metadata": {
    "id": "MpKbAf0n0nIZ"
   },
   "source": [
    "### Wide Component"
   ]
  },
  {
   "cell_type": "code",
   "execution_count": null,
   "metadata": {
    "executionInfo": {
     "elapsed": 1292,
     "status": "ok",
     "timestamp": 1610010954652,
     "user": {
      "displayName": "Jaewon Fastcampus",
      "photoUrl": "",
      "userId": "05122666633107220130"
     },
     "user_tz": -540
    },
    "id": "8rkppnwh0Xwl"
   },
   "outputs": [],
   "source": [
    "\n",
    "wide_preprocessor = WidePreprocessor(wide_cols=wide_cols, crossed_cols=cross_cols)\n",
    "X_wide = wide_preprocessor.fit_transform(train_df)\n",
    "wide = Wide(input_dim=np.unique(X_wide).shape[0], pred_dim=1)\n"
   ]
  },
  {
   "cell_type": "code",
   "execution_count": null,
   "metadata": {
    "colab": {
     "base_uri": "https://localhost:8080/"
    },
    "executionInfo": {
     "elapsed": 1322,
     "status": "ok",
     "timestamp": 1610010998151,
     "user": {
      "displayName": "Jaewon Fastcampus",
      "photoUrl": "",
      "userId": "05122666633107220130"
     },
     "user_tz": -540
    },
    "id": "GSVqZrynIf2K",
    "outputId": "5f72a776-550d-4b54-d865-9ecf6a3c44da"
   },
   "outputs": [
    {
     "data": {
      "text/plain": [
       "1013112"
      ]
     },
     "metadata": {},
     "output_type": "display_data"
    }
   ],
   "source": [
    "X_wide.size"
   ]
  },
  {
   "cell_type": "code",
   "execution_count": null,
   "metadata": {},
   "outputs": [
    {
     "data": {
      "text/plain": [
       "Wide(\n",
       "  (wide_linear): Embedding(31, 1, padding_idx=0)\n",
       ")"
      ]
     },
     "metadata": {},
     "output_type": "display_data"
    }
   ],
   "source": [
    "wide"
   ]
  },
  {
   "cell_type": "markdown",
   "metadata": {
    "id": "C1bSy6Op0tqM"
   },
   "source": [
    "### Deep Component"
   ]
  },
  {
   "cell_type": "code",
   "execution_count": null,
   "metadata": {
    "executionInfo": {
     "elapsed": 1127,
     "status": "ok",
     "timestamp": 1610011022702,
     "user": {
      "displayName": "Jaewon Fastcampus",
      "photoUrl": "",
      "userId": "05122666633107220130"
     },
     "user_tz": -540
    },
    "id": "c6cZZdeY0brd"
   },
   "outputs": [],
   "source": [
    "tab_preprocessor = TabPreprocessor(embed_cols=embed_cols, continuous_cols=continuous_cols) \n",
    "X_deep = tab_preprocessor.fit_transform(train_df)\n",
    "deep_mlp = TabMlp(\n",
    "    mlp_hidden_dims=[64, 32],\n",
    "    column_idx=tab_preprocessor.column_idx,\n",
    "    cat_embed_input=tab_preprocessor.cat_embed_input,\n",
    "    continuous_cols=continuous_cols,\n",
    ")"
   ]
  },
  {
   "cell_type": "code",
   "execution_count": null,
   "metadata": {
    "colab": {
     "base_uri": "https://localhost:8080/"
    },
    "executionInfo": {
     "elapsed": 1339,
     "status": "ok",
     "timestamp": 1610011030110,
     "user": {
      "displayName": "Jaewon Fastcampus",
      "photoUrl": "",
      "userId": "05122666633107220130"
     },
     "user_tz": -540
    },
    "id": "E3Z--ZjTIp8e",
    "outputId": "a53154b2-cf8e-405b-b6f1-690da8f0dc8a"
   },
   "outputs": [
    {
     "data": {
      "text/plain": [
       "TabMlp(\n",
       "  (cat_and_cont_embed): DiffSizeCatAndContEmbeddings(\n",
       "    (cat_embed): DiffSizeCatEmbeddings(\n",
       "      (embed_layers): ModuleDict(\n",
       "        (emb_layer_가족): Embedding(3, 16, padding_idx=0)\n",
       "        (emb_layer_SF): Embedding(3, 16, padding_idx=0)\n",
       "        (emb_layer_공포): Embedding(3, 16, padding_idx=0)\n",
       "      )\n",
       "      (embedding_dropout): Dropout(p=0.1, inplace=False)\n",
       "    )\n",
       "    (cont_norm): BatchNorm1d(1, eps=1e-05, momentum=0.1, affine=True, track_running_stats=True)\n",
       "  )\n",
       "  (tab_mlp): MLP(\n",
       "    (mlp): Sequential(\n",
       "      (dense_layer_0): Sequential(\n",
       "        (0): Dropout(p=0.1, inplace=False)\n",
       "        (1): Linear(in_features=49, out_features=64, bias=True)\n",
       "        (2): ReLU(inplace=True)\n",
       "      )\n",
       "      (dense_layer_1): Sequential(\n",
       "        (0): Dropout(p=0.1, inplace=False)\n",
       "        (1): Linear(in_features=64, out_features=32, bias=True)\n",
       "        (2): ReLU(inplace=True)\n",
       "      )\n",
       "    )\n",
       "  )\n",
       ")"
      ]
     },
     "metadata": {},
     "output_type": "display_data"
    }
   ],
   "source": [
    "deep_mlp"
   ]
  },
  {
   "cell_type": "markdown",
   "metadata": {
    "id": "du3Qr-Sj03B8"
   },
   "source": [
    "### Build and Train"
   ]
  },
  {
   "cell_type": "code",
   "execution_count": null,
   "metadata": {},
   "outputs": [
    {
     "name": "stderr",
     "output_type": "stream",
     "text": [
      "epoch 1: 100%|██████████| 396/396 [00:01<00:00, 256.48it/s, loss=0.636, metrics={'acc': 0.6685}]\n",
      "valid: 100%|██████████| 44/44 [00:00<00:00, 277.94it/s, loss=0.632, metrics={'acc': 0.6709}]\n",
      "epoch 2: 100%|██████████| 396/396 [00:01<00:00, 262.45it/s, loss=0.63, metrics={'acc': 0.6709}] \n",
      "valid: 100%|██████████| 44/44 [00:00<00:00, 271.50it/s, loss=0.63, metrics={'acc': 0.6709}] \n",
      "epoch 3: 100%|██████████| 396/396 [00:01<00:00, 277.98it/s, loss=0.63, metrics={'acc': 0.6709}] \n",
      "valid: 100%|██████████| 44/44 [00:00<00:00, 287.10it/s, loss=0.63, metrics={'acc': 0.6709}] \n",
      "epoch 4: 100%|██████████| 396/396 [00:01<00:00, 272.13it/s, loss=0.63, metrics={'acc': 0.6709}] \n",
      "valid: 100%|██████████| 44/44 [00:00<00:00, 324.32it/s, loss=0.63, metrics={'acc': 0.6709}] \n",
      "epoch 5: 100%|██████████| 396/396 [00:01<00:00, 250.26it/s, loss=0.63, metrics={'acc': 0.6709}] \n",
      "valid: 100%|██████████| 44/44 [00:00<00:00, 313.56it/s, loss=0.63, metrics={'acc': 0.6709}] \n"
     ]
    }
   ],
   "source": [
    "model = WideDeep(wide=wide, deep_mlp=deep_mlp)\n",
    "\n",
    "# train and validate\n",
    "trainer = Trainer(model, objective=\"binary\", metrics=[Accuracy])\n",
    "trainer.fit(\n",
    "    X_wide=X_wide,\n",
    "    X_deep=X_deep,\n",
    "    target=target,\n",
    "    n_epochs=5,\n",
    "    batch_size=256,\n",
    "    val_split=0.1\n",
    ")\n"
   ]
  },
  {
   "cell_type": "code",
   "execution_count": null,
   "metadata": {},
   "outputs": [
    {
     "data": {
      "text/plain": [
       "(112568, 4)"
      ]
     },
     "metadata": {},
     "output_type": "display_data"
    }
   ],
   "source": [
    "X_deep.shape"
   ]
  },
  {
   "cell_type": "code",
   "execution_count": null,
   "metadata": {},
   "outputs": [
    {
     "data": {
      "text/plain": [
       "(112568, 9)"
      ]
     },
     "metadata": {},
     "output_type": "display_data"
    }
   ],
   "source": [
    "X_wide.shape"
   ]
  }
 ],
 "metadata": {
  "kernelspec": {
   "display_name": "Python 3.9.10 ('base')",
   "language": "python",
   "name": "python3"
  },
  "language_info": {
   "name": "python",
   "version": "3.9.10"
  },
  "orig_nbformat": 4,
  "vscode": {
   "interpreter": {
    "hash": "95828a30a6dccbf06eeb96f912da2b273067aaf418293ab961b2c905937e5b70"
   }
  }
 },
 "nbformat": 4,
 "nbformat_minor": 2
}
