{
 "cells": [
  {
   "cell_type": "code",
   "execution_count": 64,
   "metadata": {},
   "outputs": [
    {
     "data": {
      "text/html": [
       "<style>.container { width: 75% !important; }</style>"
      ],
      "text/plain": [
       "<IPython.core.display.HTML object>"
      ]
     },
     "metadata": {},
     "output_type": "display_data"
    }
   ],
   "source": [
    "from IPython.core.display import display, HTML\n",
    "display(HTML(\"<style>.container { width: 75% !important; }</style>\"))\n",
    "\n",
    "import pandas as pd\n",
    "import numpy as np"
   ]
  },
  {
   "cell_type": "markdown",
   "metadata": {},
   "source": [
    "  "
   ]
  },
  {
   "cell_type": "markdown",
   "metadata": {},
   "source": [
    "### 원 데이터\n",
    "* user: user id\n",
    "* item: artist id  \n",
    "* plays: user가 artist를 play한 횟수   "
   ]
  },
  {
   "cell_type": "code",
   "execution_count": 3,
   "metadata": {
    "collapsed": true
   },
   "outputs": [],
   "source": [
    "df = pd.read_csv(file_path + '/usersha1-artmbid-artname-plays.tsv', delimiter='\\t', header=None)\n",
    "\n",
    "df = df.drop(df.columns[2], axis=1)\n",
    "df.columns = ['user', 'item', 'plays']\n",
    "df = df.dropna()\n",
    "df = df.loc[df.plays != 0]"
   ]
  },
  {
   "cell_type": "code",
   "execution_count": 60,
   "metadata": {},
   "outputs": [
    {
     "data": {
      "text/plain": [
       "(17309470, 3)"
      ]
     },
     "execution_count": 60,
     "metadata": {},
     "output_type": "execute_result"
    }
   ],
   "source": [
    "df.shape"
   ]
  },
  {
   "cell_type": "code",
   "execution_count": 4,
   "metadata": {},
   "outputs": [
    {
     "data": {
      "text/html": [
       "<div>\n",
       "<style scoped>\n",
       "    .dataframe tbody tr th:only-of-type {\n",
       "        vertical-align: middle;\n",
       "    }\n",
       "\n",
       "    .dataframe tbody tr th {\n",
       "        vertical-align: top;\n",
       "    }\n",
       "\n",
       "    .dataframe thead th {\n",
       "        text-align: right;\n",
       "    }\n",
       "</style>\n",
       "<table border=\"1\" class=\"dataframe\">\n",
       "  <thead>\n",
       "    <tr style=\"text-align: right;\">\n",
       "      <th></th>\n",
       "      <th>user</th>\n",
       "      <th>item</th>\n",
       "      <th>plays</th>\n",
       "    </tr>\n",
       "  </thead>\n",
       "  <tbody>\n",
       "    <tr>\n",
       "      <th>0</th>\n",
       "      <td>00000c289a1829a808ac09c00daf10bc3c4e223b</td>\n",
       "      <td>f2fb0ff0-5679-42ec-a55c-15109ce6e320</td>\n",
       "      <td>1099</td>\n",
       "    </tr>\n",
       "    <tr>\n",
       "      <th>1</th>\n",
       "      <td>00000c289a1829a808ac09c00daf10bc3c4e223b</td>\n",
       "      <td>b3ae82c2-e60b-4551-a76d-6620f1b456aa</td>\n",
       "      <td>897</td>\n",
       "    </tr>\n",
       "    <tr>\n",
       "      <th>2</th>\n",
       "      <td>00000c289a1829a808ac09c00daf10bc3c4e223b</td>\n",
       "      <td>3d6bbeb7-f90e-4d10-b440-e153c0d10b53</td>\n",
       "      <td>717</td>\n",
       "    </tr>\n",
       "    <tr>\n",
       "      <th>3</th>\n",
       "      <td>00000c289a1829a808ac09c00daf10bc3c4e223b</td>\n",
       "      <td>bbd2ffd7-17f4-4506-8572-c1ea58c3f9a8</td>\n",
       "      <td>706</td>\n",
       "    </tr>\n",
       "    <tr>\n",
       "      <th>4</th>\n",
       "      <td>00000c289a1829a808ac09c00daf10bc3c4e223b</td>\n",
       "      <td>8bfac288-ccc5-448d-9573-c33ea2aa5c30</td>\n",
       "      <td>691</td>\n",
       "    </tr>\n",
       "  </tbody>\n",
       "</table>\n",
       "</div>"
      ],
      "text/plain": [
       "                                       user  \\\n",
       "0  00000c289a1829a808ac09c00daf10bc3c4e223b   \n",
       "1  00000c289a1829a808ac09c00daf10bc3c4e223b   \n",
       "2  00000c289a1829a808ac09c00daf10bc3c4e223b   \n",
       "3  00000c289a1829a808ac09c00daf10bc3c4e223b   \n",
       "4  00000c289a1829a808ac09c00daf10bc3c4e223b   \n",
       "\n",
       "                                   item  plays  \n",
       "0  f2fb0ff0-5679-42ec-a55c-15109ce6e320   1099  \n",
       "1  b3ae82c2-e60b-4551-a76d-6620f1b456aa    897  \n",
       "2  3d6bbeb7-f90e-4d10-b440-e153c0d10b53    717  \n",
       "3  bbd2ffd7-17f4-4506-8572-c1ea58c3f9a8    706  \n",
       "4  8bfac288-ccc5-448d-9573-c33ea2aa5c30    691  "
      ]
     },
     "execution_count": 4,
     "metadata": {},
     "output_type": "execute_result"
    }
   ],
   "source": [
    "df.head()"
   ]
  },
  {
   "cell_type": "code",
   "execution_count": 7,
   "metadata": {},
   "outputs": [
    {
     "name": "stdout",
     "output_type": "stream",
     "text": [
      "user 수: 358857\n",
      "artist 수: 160112\n"
     ]
    }
   ],
   "source": [
    "print('user 수:', len(np.unique(list(df['user'])))) \n",
    "print('artist 수:', len(np.unique(list(df['item']))))"
   ]
  },
  {
   "cell_type": "markdown",
   "metadata": {},
   "source": [
    "  "
   ]
  },
  {
   "cell_type": "markdown",
   "metadata": {},
   "source": [
    "### 분석 데이터\n",
    "* 분석에 필요한 데이터 준비 "
   ]
  },
  {
   "cell_type": "code",
   "execution_count": 15,
   "metadata": {
    "collapsed": true
   },
   "outputs": [],
   "source": [
    "def prepare_analy_dataset(df):\n",
    "    \"\"\"\n",
    "    데이터 로드 함수 \n",
    "    \n",
    "    uids: train user\n",
    "    iids: train item\n",
    "    users: 전체 user          \n",
    "    items: 전체 item\n",
    "    df_train: train data\n",
    "    df_test: test data\n",
    "    \"\"\"\n",
    "    # user 10000명 샘플링 \n",
    "    unique_user_lst = list(np.unique(df['user'])) #358857명 \n",
    "    sample_user_idx = np.random.choice(len(unique_user_lst), 10000, replace=False)\n",
    "    sample_user_lst = [unique_user_lst[idx] for idx in sample_user_idx]\n",
    "    \n",
    "    df = df[df['user'].isin(sample_user_lst)]\n",
    "    df = df.reset_index(drop=True)\n",
    "\n",
    "    # 1명 이상의 artist데이터가 있는 user만 사용 \n",
    "    df_count = df.groupby(['user']).count()\n",
    "    df['count'] = df.groupby('user')['user'].transform('count')\n",
    "    df = df[df['count'] > 1]\n",
    "\n",
    "    # user, item 아이디 부여 \n",
    "    df['user_id'] = df['user'].astype(\"category\").cat.codes\n",
    "    df['item_id'] = df['item'].astype(\"category\").cat.codes\n",
    "\n",
    "    # lookup 테이블 생성 \n",
    "    item_lookup = df[['item_id', 'item']].drop_duplicates()\n",
    "    item_lookup['item_id'] = item_lookup.item_id.astype(str)\n",
    "\n",
    "    # train, test 데이터 생성 \n",
    "    df = df[['user_id', 'item_id', 'plays']] \n",
    "    df_train, df_test = train_test_split(df)\n",
    "\n",
    "    # 전체 user, item 리스트 생성 \n",
    "    users = list(np.sort(df.user_id.unique())) \n",
    "    items = list(np.sort(df.item_id.unique())) \n",
    "\n",
    "    # train user, item 리스트 생성 \n",
    "    rows = df_train['user_id'].astype(int)   \n",
    "    cols = df_train['item_id'].astype(int)\n",
    "    values = list(df_train.plays) \n",
    "    \n",
    "    uids = np.array(rows.tolist())\n",
    "    iids = np.array(cols.tolist())\n",
    "\n",
    "    # 각 user마다 negative item 생성 \n",
    "    df_neg = get_negatives(uids, iids, items, df_test)\n",
    "\n",
    "    return uids, iids, df_train, df_test, df_neg, users, items, item_lookup\n",
    "\n",
    "def get_negatives(uids, iids, items, df_test):\n",
    "    \"\"\"\n",
    "    negative item 리스트 생성함수\n",
    "    \"\"\"\n",
    "    negativeList = []\n",
    "    test_u = df_test['user_id'].values.tolist() \n",
    "    test_i = df_test['item_id'].values.tolist() \n",
    " \n",
    "    test_ratings = list(zip(test_u, test_i)) # test (user, item)세트 \n",
    "    zipped = set(zip(uids, iids))            # train (user, item)세트\n",
    "\n",
    "    for (u, i) in test_ratings:\n",
    "        \n",
    "        negatives = []\n",
    "        negatives.append((u, i))\n",
    "        for t in range(100):\n",
    "            j = np.random.randint(len(items))     # neg_item j 1개 샘플링 \n",
    "            while (u, j) in zipped:               # j가 train에 있으면 다시뽑고, 없으면 선택 \n",
    "                j = np.random.randint(len(items)) \n",
    "            negatives.append(j)\n",
    "        negativeList.append(negatives) # [(0,pos), neg, neg, ...]\n",
    "\n",
    "    df_neg = pd.DataFrame(negativeList)\n",
    "\n",
    "    return df_neg\n",
    "\n",
    "def mask_first(x):\n",
    "\n",
    "    result = np.ones_like(x) \n",
    "    result[0] = 0  # [0,1,1,....]\n",
    "    \n",
    "    return result\n",
    "\n",
    "def train_test_split(df):\n",
    "    \"\"\"\n",
    "    train, test 나누는 함수\n",
    "    \"\"\"\n",
    "    df_test = df.copy(deep=True)\n",
    "    df_train = df.copy(deep=True)\n",
    "    \n",
    "    # df_test\n",
    "    # user_id와 holdout_item_id(user가 플레이한 아이템 중 1개)뽑기 \n",
    "    df_test = df_test.groupby(['user_id']).first() \n",
    "    df_test['user_id'] = df_test.index\n",
    "    df_test = df_test[['user_id', 'item_id', 'plays']]\n",
    "    df_test = df_test.reset_index(drop=True)\n",
    "    \n",
    "    # df_train \n",
    "    # user_id 리스트에 make_first()적용 \n",
    "    mask = df.groupby(['user_id'])['user_id'].transform(mask_first).astype(bool)\n",
    "    df_train = df.loc[mask]  \n",
    "\n",
    "    return df_train, df_test\n",
    "\n",
    "def get_train_instances(uids, iids, num_neg, num_items):\n",
    "    \"\"\"\n",
    "    모델에 사용할 train 데이터 생성 함수 \n",
    "    \"\"\"\n",
    "    user_input, item_input, labels = [],[],[]\n",
    "    zipped = set(zip(uids, iids)) # train (user, item) 세트\n",
    "\n",
    "    for (u, i) in zip(uids, iids):\n",
    "        \n",
    "        # pos item 추가 \n",
    "        user_input.append(u) #[u]\n",
    "        item_input.append(i) #[pos_i]\n",
    "        labels.append(1)     #[1]\n",
    "\n",
    "        # neg item 추가 \n",
    "        for t in range(num_neg):\n",
    "            \n",
    "            j = np.random.randint(num_items)     # neg_item j num_neg(4)개 샘플링\n",
    "            while (u, j) in zipped:              # u가 j를 이미 선택했다면 \n",
    "                j = np.random.randint(num_items) # 다시 샘플링 \n",
    "                \n",
    "            user_input.append(u) # [u1, u1,  u1,  ...]\n",
    "            item_input.append(j) # [pos_i, neg_j1, neg_j2, ...]\n",
    "            labels.append(0)     # [1, 0,  0,  ...]\n",
    "\n",
    "    return user_input, item_input, labels\n"
   ]
  },
  {
   "cell_type": "code",
   "execution_count": 16,
   "metadata": {
    "collapsed": true
   },
   "outputs": [],
   "source": [
    "uids, iids, df_train, df_test, df_neg, users, items, item_lookup = prepare_analy_dataset(df)"
   ]
  },
  {
   "cell_type": "markdown",
   "metadata": {},
   "source": [
    "### train 데이터"
   ]
  },
  {
   "cell_type": "code",
   "execution_count": 25,
   "metadata": {},
   "outputs": [
    {
     "data": {
      "text/html": [
       "<div>\n",
       "<style scoped>\n",
       "    .dataframe tbody tr th:only-of-type {\n",
       "        vertical-align: middle;\n",
       "    }\n",
       "\n",
       "    .dataframe tbody tr th {\n",
       "        vertical-align: top;\n",
       "    }\n",
       "\n",
       "    .dataframe thead th {\n",
       "        text-align: right;\n",
       "    }\n",
       "</style>\n",
       "<table border=\"1\" class=\"dataframe\">\n",
       "  <thead>\n",
       "    <tr style=\"text-align: right;\">\n",
       "      <th></th>\n",
       "      <th>user_id</th>\n",
       "      <th>item_id</th>\n",
       "      <th>plays</th>\n",
       "    </tr>\n",
       "  </thead>\n",
       "  <tbody>\n",
       "    <tr>\n",
       "      <th>1</th>\n",
       "      <td>0</td>\n",
       "      <td>43686</td>\n",
       "      <td>534</td>\n",
       "    </tr>\n",
       "    <tr>\n",
       "      <th>2</th>\n",
       "      <td>0</td>\n",
       "      <td>40839</td>\n",
       "      <td>301</td>\n",
       "    </tr>\n",
       "    <tr>\n",
       "      <th>3</th>\n",
       "      <td>0</td>\n",
       "      <td>27785</td>\n",
       "      <td>248</td>\n",
       "    </tr>\n",
       "    <tr>\n",
       "      <th>4</th>\n",
       "      <td>0</td>\n",
       "      <td>14992</td>\n",
       "      <td>240</td>\n",
       "    </tr>\n",
       "    <tr>\n",
       "      <th>5</th>\n",
       "      <td>0</td>\n",
       "      <td>31681</td>\n",
       "      <td>200</td>\n",
       "    </tr>\n",
       "    <tr>\n",
       "      <th>6</th>\n",
       "      <td>0</td>\n",
       "      <td>41188</td>\n",
       "      <td>194</td>\n",
       "    </tr>\n",
       "    <tr>\n",
       "      <th>7</th>\n",
       "      <td>0</td>\n",
       "      <td>27547</td>\n",
       "      <td>183</td>\n",
       "    </tr>\n",
       "    <tr>\n",
       "      <th>8</th>\n",
       "      <td>0</td>\n",
       "      <td>48035</td>\n",
       "      <td>172</td>\n",
       "    </tr>\n",
       "    <tr>\n",
       "      <th>9</th>\n",
       "      <td>0</td>\n",
       "      <td>6889</td>\n",
       "      <td>149</td>\n",
       "    </tr>\n",
       "    <tr>\n",
       "      <th>10</th>\n",
       "      <td>0</td>\n",
       "      <td>42137</td>\n",
       "      <td>144</td>\n",
       "    </tr>\n",
       "  </tbody>\n",
       "</table>\n",
       "</div>"
      ],
      "text/plain": [
       "    user_id  item_id  plays\n",
       "1         0    43686    534\n",
       "2         0    40839    301\n",
       "3         0    27785    248\n",
       "4         0    14992    240\n",
       "5         0    31681    200\n",
       "6         0    41188    194\n",
       "7         0    27547    183\n",
       "8         0    48035    172\n",
       "9         0     6889    149\n",
       "10        0    42137    144"
      ]
     },
     "execution_count": 25,
     "metadata": {},
     "output_type": "execute_result"
    }
   ],
   "source": [
    "df_train.head(10)"
   ]
  },
  {
   "cell_type": "code",
   "execution_count": 28,
   "metadata": {},
   "outputs": [
    {
     "data": {
      "text/plain": [
       "(471404, 3)"
      ]
     },
     "execution_count": 28,
     "metadata": {},
     "output_type": "execute_result"
    }
   ],
   "source": [
    "df_train.shape"
   ]
  },
  {
   "cell_type": "markdown",
   "metadata": {},
   "source": [
    "  "
   ]
  },
  {
   "cell_type": "markdown",
   "metadata": {},
   "source": [
    "### 모델 train 데이터\n",
    "df_train의 각 row (user_id, item_id)당 negative item을 num_neg개씩 랜덤으로 선택한다.   "
   ]
  },
  {
   "cell_type": "code",
   "execution_count": 41,
   "metadata": {
    "collapsed": true
   },
   "outputs": [],
   "source": [
    "user_input, item_input, labels = get_train_instances(uids, iids, num_neg=4, num_items=len(items))"
   ]
  },
  {
   "cell_type": "markdown",
   "metadata": {},
   "source": [
    "#### 예시 "
   ]
  },
  {
   "cell_type": "code",
   "execution_count": 55,
   "metadata": {},
   "outputs": [
    {
     "name": "stdout",
     "output_type": "stream",
     "text": [
      "df_train의 첫번째 행: (user_id, item_id)= (0, 43686)\n",
      "df_train의 두번째 행: (user_id, item_id)= (0, 40839)\n"
     ]
    }
   ],
   "source": [
    "print('df_train의 첫번째 행: (user_id, item_id)=', (uids[0], iids[0])) \n",
    "print('df_train의 두번째 행: (user_id, item_id)=', (uids[1], iids[1])) "
   ]
  },
  {
   "cell_type": "code",
   "execution_count": 59,
   "metadata": {},
   "outputs": [
    {
     "name": "stdout",
     "output_type": "stream",
     "text": [
      "(user_id, postive_item_id, label): (0, 43686, 1)\n",
      "(user_id, negative_item_id, label): (0, 4284, 0)\n",
      "(user_id, negative_item_id, label): (0, 30458, 0)\n",
      "(user_id, negative_item_id, label): (0, 4093, 0)\n",
      "(user_id, negative_item_id, label): (0, 15591, 0)\n",
      "(user_id, postive_item_id, label): (0, 40839, 1)\n",
      "(user_id, negative_item_id, label): (0, 2061, 0)\n",
      "(user_id, negative_item_id, label): (0, 43559, 0)\n",
      "(user_id, negative_item_id, label): (0, 29172, 0)\n",
      "(user_id, negative_item_id, label): (0, 32114, 0)\n"
     ]
    }
   ],
   "source": [
    "for i, (user_id, item_id, label) in enumerate(zip(user_input[0:10], item_input[0:10], labels[0:10])):\n",
    "    if i==0 or i==5:\n",
    "        print('(user_id, postive_item_id, label):', (user_id, item_id, label))\n",
    "    else:\n",
    "        print('(user_id, negative_item_id, label):', (user_id, item_id, label))"
   ]
  },
  {
   "cell_type": "markdown",
   "metadata": {},
   "source": [
    "  "
   ]
  },
  {
   "cell_type": "markdown",
   "metadata": {},
   "source": [
    "### test 데이터\n",
    "각 user별로, user_id와 user가 플레이한 item(artist) 1개로 이뤄진다.  "
   ]
  },
  {
   "cell_type": "code",
   "execution_count": 29,
   "metadata": {},
   "outputs": [
    {
     "data": {
      "text/html": [
       "<div>\n",
       "<style scoped>\n",
       "    .dataframe tbody tr th:only-of-type {\n",
       "        vertical-align: middle;\n",
       "    }\n",
       "\n",
       "    .dataframe tbody tr th {\n",
       "        vertical-align: top;\n",
       "    }\n",
       "\n",
       "    .dataframe thead th {\n",
       "        text-align: right;\n",
       "    }\n",
       "</style>\n",
       "<table border=\"1\" class=\"dataframe\">\n",
       "  <thead>\n",
       "    <tr style=\"text-align: right;\">\n",
       "      <th></th>\n",
       "      <th>user_id</th>\n",
       "      <th>item_id</th>\n",
       "      <th>plays</th>\n",
       "    </tr>\n",
       "  </thead>\n",
       "  <tbody>\n",
       "    <tr>\n",
       "      <th>0</th>\n",
       "      <td>0</td>\n",
       "      <td>47912</td>\n",
       "      <td>690</td>\n",
       "    </tr>\n",
       "    <tr>\n",
       "      <th>1</th>\n",
       "      <td>1</td>\n",
       "      <td>45306</td>\n",
       "      <td>3478</td>\n",
       "    </tr>\n",
       "    <tr>\n",
       "      <th>2</th>\n",
       "      <td>2</td>\n",
       "      <td>38285</td>\n",
       "      <td>315</td>\n",
       "    </tr>\n",
       "    <tr>\n",
       "      <th>3</th>\n",
       "      <td>3</td>\n",
       "      <td>34421</td>\n",
       "      <td>1081</td>\n",
       "    </tr>\n",
       "    <tr>\n",
       "      <th>4</th>\n",
       "      <td>4</td>\n",
       "      <td>14240</td>\n",
       "      <td>163</td>\n",
       "    </tr>\n",
       "    <tr>\n",
       "      <th>5</th>\n",
       "      <td>5</td>\n",
       "      <td>37358</td>\n",
       "      <td>102</td>\n",
       "    </tr>\n",
       "    <tr>\n",
       "      <th>6</th>\n",
       "      <td>6</td>\n",
       "      <td>39910</td>\n",
       "      <td>202</td>\n",
       "    </tr>\n",
       "    <tr>\n",
       "      <th>7</th>\n",
       "      <td>7</td>\n",
       "      <td>34012</td>\n",
       "      <td>1015</td>\n",
       "    </tr>\n",
       "    <tr>\n",
       "      <th>8</th>\n",
       "      <td>8</td>\n",
       "      <td>34133</td>\n",
       "      <td>39655</td>\n",
       "    </tr>\n",
       "    <tr>\n",
       "      <th>9</th>\n",
       "      <td>9</td>\n",
       "      <td>38593</td>\n",
       "      <td>432</td>\n",
       "    </tr>\n",
       "  </tbody>\n",
       "</table>\n",
       "</div>"
      ],
      "text/plain": [
       "   user_id  item_id  plays\n",
       "0        0    47912    690\n",
       "1        1    45306   3478\n",
       "2        2    38285    315\n",
       "3        3    34421   1081\n",
       "4        4    14240    163\n",
       "5        5    37358    102\n",
       "6        6    39910    202\n",
       "7        7    34012   1015\n",
       "8        8    34133  39655\n",
       "9        9    38593    432"
      ]
     },
     "execution_count": 29,
     "metadata": {},
     "output_type": "execute_result"
    }
   ],
   "source": [
    "df_test.head(10)"
   ]
  },
  {
   "cell_type": "code",
   "execution_count": 30,
   "metadata": {},
   "outputs": [
    {
     "data": {
      "text/plain": [
       "(10000, 3)"
      ]
     },
     "execution_count": 30,
     "metadata": {},
     "output_type": "execute_result"
    }
   ],
   "source": [
    "df_test.shape"
   ]
  },
  {
   "cell_type": "markdown",
   "metadata": {},
   "source": [
    "  "
   ]
  },
  {
   "cell_type": "markdown",
   "metadata": {},
   "source": [
    "### df_neg 데이터\n",
    "각 user별로, negative item(user가 플레이 하지 않은 item(artist)) 100개를 랜덤으로 선택한다.  \n",
    "* column 0: df_test 데이터의 (user_id, item_id)  \n",
    "* column 1~100: negative item     \n",
    "\n",
    "df_neg 데이터는 모델 평가시 TOP-K metric을 계산할 때 사용된다.     "
   ]
  },
  {
   "cell_type": "code",
   "execution_count": 32,
   "metadata": {},
   "outputs": [
    {
     "data": {
      "text/html": [
       "<div>\n",
       "<style scoped>\n",
       "    .dataframe tbody tr th:only-of-type {\n",
       "        vertical-align: middle;\n",
       "    }\n",
       "\n",
       "    .dataframe tbody tr th {\n",
       "        vertical-align: top;\n",
       "    }\n",
       "\n",
       "    .dataframe thead th {\n",
       "        text-align: right;\n",
       "    }\n",
       "</style>\n",
       "<table border=\"1\" class=\"dataframe\">\n",
       "  <thead>\n",
       "    <tr style=\"text-align: right;\">\n",
       "      <th></th>\n",
       "      <th>0</th>\n",
       "      <th>1</th>\n",
       "      <th>2</th>\n",
       "      <th>3</th>\n",
       "      <th>4</th>\n",
       "      <th>5</th>\n",
       "      <th>6</th>\n",
       "      <th>7</th>\n",
       "      <th>8</th>\n",
       "      <th>9</th>\n",
       "      <th>...</th>\n",
       "      <th>91</th>\n",
       "      <th>92</th>\n",
       "      <th>93</th>\n",
       "      <th>94</th>\n",
       "      <th>95</th>\n",
       "      <th>96</th>\n",
       "      <th>97</th>\n",
       "      <th>98</th>\n",
       "      <th>99</th>\n",
       "      <th>100</th>\n",
       "    </tr>\n",
       "  </thead>\n",
       "  <tbody>\n",
       "    <tr>\n",
       "      <th>0</th>\n",
       "      <td>(0, 47912)</td>\n",
       "      <td>15538</td>\n",
       "      <td>13645</td>\n",
       "      <td>27015</td>\n",
       "      <td>37532</td>\n",
       "      <td>19044</td>\n",
       "      <td>15700</td>\n",
       "      <td>36803</td>\n",
       "      <td>3452</td>\n",
       "      <td>39381</td>\n",
       "      <td>...</td>\n",
       "      <td>23180</td>\n",
       "      <td>41660</td>\n",
       "      <td>25694</td>\n",
       "      <td>26889</td>\n",
       "      <td>24163</td>\n",
       "      <td>49302</td>\n",
       "      <td>3171</td>\n",
       "      <td>46151</td>\n",
       "      <td>19003</td>\n",
       "      <td>27326</td>\n",
       "    </tr>\n",
       "    <tr>\n",
       "      <th>1</th>\n",
       "      <td>(1, 45306)</td>\n",
       "      <td>38940</td>\n",
       "      <td>29659</td>\n",
       "      <td>31319</td>\n",
       "      <td>32218</td>\n",
       "      <td>24843</td>\n",
       "      <td>7864</td>\n",
       "      <td>7663</td>\n",
       "      <td>14334</td>\n",
       "      <td>18938</td>\n",
       "      <td>...</td>\n",
       "      <td>44109</td>\n",
       "      <td>38467</td>\n",
       "      <td>45471</td>\n",
       "      <td>34541</td>\n",
       "      <td>36679</td>\n",
       "      <td>29502</td>\n",
       "      <td>42367</td>\n",
       "      <td>10750</td>\n",
       "      <td>26569</td>\n",
       "      <td>25374</td>\n",
       "    </tr>\n",
       "    <tr>\n",
       "      <th>2</th>\n",
       "      <td>(2, 38285)</td>\n",
       "      <td>28492</td>\n",
       "      <td>6480</td>\n",
       "      <td>4062</td>\n",
       "      <td>35839</td>\n",
       "      <td>20446</td>\n",
       "      <td>44947</td>\n",
       "      <td>33852</td>\n",
       "      <td>6137</td>\n",
       "      <td>45770</td>\n",
       "      <td>...</td>\n",
       "      <td>38495</td>\n",
       "      <td>32714</td>\n",
       "      <td>43861</td>\n",
       "      <td>46410</td>\n",
       "      <td>45033</td>\n",
       "      <td>5332</td>\n",
       "      <td>22047</td>\n",
       "      <td>42698</td>\n",
       "      <td>23249</td>\n",
       "      <td>15833</td>\n",
       "    </tr>\n",
       "    <tr>\n",
       "      <th>3</th>\n",
       "      <td>(3, 34421)</td>\n",
       "      <td>10044</td>\n",
       "      <td>16773</td>\n",
       "      <td>14762</td>\n",
       "      <td>33474</td>\n",
       "      <td>26398</td>\n",
       "      <td>2561</td>\n",
       "      <td>21464</td>\n",
       "      <td>31421</td>\n",
       "      <td>11798</td>\n",
       "      <td>...</td>\n",
       "      <td>9679</td>\n",
       "      <td>41737</td>\n",
       "      <td>17012</td>\n",
       "      <td>3033</td>\n",
       "      <td>4590</td>\n",
       "      <td>19763</td>\n",
       "      <td>23572</td>\n",
       "      <td>35607</td>\n",
       "      <td>27029</td>\n",
       "      <td>19199</td>\n",
       "    </tr>\n",
       "    <tr>\n",
       "      <th>4</th>\n",
       "      <td>(4, 14240)</td>\n",
       "      <td>26861</td>\n",
       "      <td>21718</td>\n",
       "      <td>42307</td>\n",
       "      <td>19718</td>\n",
       "      <td>11827</td>\n",
       "      <td>7268</td>\n",
       "      <td>20855</td>\n",
       "      <td>7697</td>\n",
       "      <td>18883</td>\n",
       "      <td>...</td>\n",
       "      <td>32455</td>\n",
       "      <td>7677</td>\n",
       "      <td>23137</td>\n",
       "      <td>44303</td>\n",
       "      <td>23418</td>\n",
       "      <td>37859</td>\n",
       "      <td>16071</td>\n",
       "      <td>32773</td>\n",
       "      <td>29910</td>\n",
       "      <td>3079</td>\n",
       "    </tr>\n",
       "  </tbody>\n",
       "</table>\n",
       "<p>5 rows × 101 columns</p>\n",
       "</div>"
      ],
      "text/plain": [
       "          0      1      2      3      4      5      6      7      8      9    \\\n",
       "0  (0, 47912)  15538  13645  27015  37532  19044  15700  36803   3452  39381   \n",
       "1  (1, 45306)  38940  29659  31319  32218  24843   7864   7663  14334  18938   \n",
       "2  (2, 38285)  28492   6480   4062  35839  20446  44947  33852   6137  45770   \n",
       "3  (3, 34421)  10044  16773  14762  33474  26398   2561  21464  31421  11798   \n",
       "4  (4, 14240)  26861  21718  42307  19718  11827   7268  20855   7697  18883   \n",
       "\n",
       "   ...    91     92     93     94     95     96     97     98     99     100  \n",
       "0  ...  23180  41660  25694  26889  24163  49302   3171  46151  19003  27326  \n",
       "1  ...  44109  38467  45471  34541  36679  29502  42367  10750  26569  25374  \n",
       "2  ...  38495  32714  43861  46410  45033   5332  22047  42698  23249  15833  \n",
       "3  ...   9679  41737  17012   3033   4590  19763  23572  35607  27029  19199  \n",
       "4  ...  32455   7677  23137  44303  23418  37859  16071  32773  29910   3079  \n",
       "\n",
       "[5 rows x 101 columns]"
      ]
     },
     "execution_count": 32,
     "metadata": {},
     "output_type": "execute_result"
    }
   ],
   "source": [
    "df_neg.head()"
   ]
  },
  {
   "cell_type": "code",
   "execution_count": 58,
   "metadata": {},
   "outputs": [
    {
     "data": {
      "text/plain": [
       "(10000, 101)"
      ]
     },
     "execution_count": 58,
     "metadata": {},
     "output_type": "execute_result"
    }
   ],
   "source": [
    "df_neg.shape"
   ]
  },
  {
   "cell_type": "markdown",
   "metadata": {},
   "source": [
    "  "
   ]
  },
  {
   "cell_type": "markdown",
   "metadata": {},
   "source": [
    "  "
   ]
  }
 ],
 "metadata": {
  "kernelspec": {
   "display_name": "Python 3",
   "language": "python",
   "name": "python3"
  },
  "language_info": {
   "codemirror_mode": {
    "name": "ipython",
    "version": 3
   },
   "file_extension": ".py",
   "mimetype": "text/x-python",
   "name": "python",
   "nbconvert_exporter": "python",
   "pygments_lexer": "ipython3",
   "version": "3.6.3"
  }
 },
 "nbformat": 4,
 "nbformat_minor": 4
}
