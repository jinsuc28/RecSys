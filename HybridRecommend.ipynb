{
 "cells": [
  {
   "cell_type": "markdown",
   "metadata": {},
   "source": [
    "# 1. Hybird Recommendation System 배경\n",
    "\n",
    "- CB와 CF는 각 장단점이 존재함\n",
    "\n",
    "### CB 장단점\n",
    "\n",
    "장점\n",
    "- User data 필요가 없음\n",
    "- 새로운 아이템 추천 가능\n",
    "\n",
    "단점   \n",
    "- 고정적인 아이템 특성 때문에 비슷한 아이템을 계속 추천하게 됨\n",
    "- Implict Data만 사용가능\n",
    "\n",
    "### CF 장단점\n",
    "\n",
    "장점\n",
    "- 이웃기반 추천으로 추천 품질이 증가\n",
    "- Explict Data를 사용한 폭넒은 추천 가능\n",
    "\n",
    "단점\n",
    "- 한번도 평가되지 않은 아이템은 추천이 어려움\n",
    "- 과거 데이터와 큰 사이즈 데이터 의존한 추천\n",
    "- Coldstart 문제"
   ]
  },
  {
   "cell_type": "markdown",
   "metadata": {},
   "source": [
    "# 2. Hybird Recommendation System 정의\n",
    "\n",
    "- 다양한 데이터와 다양한 알고리즘을 조합하는 방식   \n",
    "ex) Explict data, Implict data, User와 Item 상호관계 등등\n",
    "- 가용할 수 있는 정보를 모두 활용하는 방식\n",
    "- 다양한 추천시스템의 장점을 모아 활용하기 때문에 각 장점을 고루 갖춘 Robust한 예측이 가능"
   ]
  },
  {
   "cell_type": "markdown",
   "metadata": {},
   "source": [
    "# 3.Hybird Recommendation System 종류\n",
    "\n",
    "### Weighted Ensemble\n",
    "- Soft ensemble 또는 Hard vote 방식으로 여러 모델의 결과를 합쳐 추천\n",
    "\n",
    "<img width='600' src='img/Hybird/WeightedEnsemble.png'>\n",
    "\n",
    "### Mixed\n",
    "- 다양한 추천 모델을 모두 사용하여 각기 추천시스템을 결과를 보여준다.   \n",
    "ex) 한 쇼핑몰에 CF,CB 모델 등 사용하여 모두 한페이지에 섞어서 보여준다.\n",
    "### Switch \n",
    "- 특정 상황(사용자, 서비스 상황)에 따라 다른 추천서비스 제공   \n",
    "ex) 도미노 피자 메뉴는 CB 그리고 장바구니에서는 연관아이템 추천 제공\n",
    "### Feature Combination\n",
    "- 보유하고 있는 데이터의 모든 feature를 모두 학습한 추천시스템   \n",
    "ex) contextual recommendation system\n",
    "### Meta-Level\n",
    "- 여러 추천 기법을 활용할 때 첫번째 모델의 output이 다음 모델의 input이 되면서 서로의 정보를 학습한 추천 방식"
   ]
  }
 ],
 "metadata": {
  "kernelspec": {
   "display_name": "Python 3.9.13 64-bit",
   "language": "python",
   "name": "python3"
  },
  "language_info": {
   "name": "python",
   "version": "3.9.13"
  },
  "orig_nbformat": 4,
  "vscode": {
   "interpreter": {
    "hash": "b0fa6594d8f4cbf19f97940f81e996739fb7646882a419484c72d19e05852a7e"
   }
  }
 },
 "nbformat": 4,
 "nbformat_minor": 2
}
